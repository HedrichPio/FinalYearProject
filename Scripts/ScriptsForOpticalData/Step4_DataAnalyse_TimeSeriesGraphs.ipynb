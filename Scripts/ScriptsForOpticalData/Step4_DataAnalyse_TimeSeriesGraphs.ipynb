{
  "nbformat": 4,
  "nbformat_minor": 0,
  "metadata": {
    "colab": {
      "provenance": []
    },
    "kernelspec": {
      "name": "python3",
      "display_name": "Python 3"
    },
    "language_info": {
      "name": "python"
    }
  },
  "cells": [
    {
      "cell_type": "code",
      "source": [
        "from google.colab import drive\n",
        "drive.mount('/content/drive')"
      ],
      "metadata": {
        "colab": {
          "base_uri": "https://localhost:8080/"
        },
        "id": "1Uk7nmLtRP8b",
        "outputId": "9df93d69-e6f2-4c1c-8095-f4ca9372a92b"
      },
      "execution_count": null,
      "outputs": [
        {
          "output_type": "stream",
          "name": "stdout",
          "text": [
            "Mounted at /content/drive\n"
          ]
        }
      ]
    },
    {
      "cell_type": "code",
      "source": [
        "import os\n",
        "import numpy as np\n",
        "from datetime import datetime\n",
        "from matplotlib import pyplot as plt, dates as mdates\n",
        "\n",
        "#assign directory\n",
        "file_directory = '/content/drive/MyDrive/Datasets_XYZ/xyz_yala_abandoned'\n",
        "\n",
        "unsorted_file_list = os.listdir(file_directory)\n",
        "sorted_file_list = sorted(unsorted_file_list)\n",
        "\n",
        "#open first file\n",
        "single_xyz_file = open(file_directory+\"/\"+sorted_file_list[0], \"r\")\n",
        "\n",
        "#read all lines and put to a list\n",
        "xyz_lines_list_of_single_file = single_xyz_file.readlines()\n",
        "\n",
        "for i in range(len(xyz_lines_list_of_single_file)):\n",
        "\n",
        "    #array of ndvi values for each day\n",
        "    ndvi_values_for_each_day = []\n",
        "\n",
        "    for j in range(len(sorted_file_list)):\n",
        "        \n",
        "        #open xyz files of ndvi and clouds\n",
        "        ndvi_single_xyz_file = open(file_directory+\"/\"+sorted_file_list[j], \"r\")\n",
        "        \n",
        "        #add all xyz lines as list\n",
        "        ndvi_line_list_of_single_file = ndvi_single_xyz_file.readlines()\n",
        "\n",
        "        #splitting the line by empty space into an array\n",
        "        ndvi_line = ndvi_line_list_of_single_file[i].split(\" \")\n",
        "\n",
        "        #convert ndvi value into float\n",
        "        floatnum = float(ndvi_line[2])\n",
        "\n",
        "        #rounding to two decimal places\n",
        "        roundnum = round(floatnum,2)\n",
        "\n",
        "        #appending value to array\n",
        "        ndvi_values_for_each_day.append(roundnum)\n",
        "\n",
        "    #array with the dates of each available satellite image \n",
        "    dates = [\"04/04/2022\",\"06/04/2022\",\"23/04/2022\",\"24/04/2022\",\"29/04/2022\",\"30/05/2022\",\"13/06/2022\",\"27/06/2022\",\"02/07/2022\",\"08/07/2022\",\"19/07/2022\",\"21/07/2022\",\"28/07/2022\",\"07/08/2022\",\"15/08/2022\",\"29/08/2022\",\"24/09/2022\"]\n",
        "\n",
        "    #formating to datetim\n",
        "    #x axis of graph\n",
        "    x = [datetime.strptime(d, \"%d/%m/%Y\").date() for d in dates]\n",
        "\n",
        "    #y axis with ndvi values of simgle pixel for each day\n",
        "    y = ndvi_values_for_each_day\n",
        "\n",
        "    ax = plt.gca()\n",
        "    \n",
        "    ax.xaxis.set_major_formatter(mdates.DateFormatter(\"%d-%m-%Y\"))\n",
        "\n",
        "    plt.rcParams[\"figure.figsize\"] = (10,5)\n",
        "\n",
        "    # naming the x axis\n",
        "    plt.xlabel('date')\n",
        "\n",
        "    # naming the y axis\n",
        "    plt.ylabel('ndvi')\n",
        "      \n",
        "    # giving a title to my graph\n",
        "    plt.title('Pixel no. '+ str(i))\n",
        "\n",
        "    ax.plot(x, y) \n",
        "    # plotting the points \n",
        "      \n",
        "    # function to show the plot\n",
        "    plt.show()\n"
      ],
      "metadata": {
        "id": "R31czpvSROOl"
      },
      "execution_count": null,
      "outputs": []
    }
  ]
}