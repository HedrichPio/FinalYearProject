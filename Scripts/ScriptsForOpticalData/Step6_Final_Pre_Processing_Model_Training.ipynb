{
  "nbformat": 4,
  "nbformat_minor": 0,
  "metadata": {
    "colab": {
      "provenance": [],
      "collapsed_sections": [
        "HD_2kftp1qWP",
        "UIv00Edm2myP"
      ]
    },
    "kernelspec": {
      "name": "python3",
      "display_name": "Python 3"
    },
    "language_info": {
      "name": "python"
    }
  },
  "cells": [
    {
      "cell_type": "code",
      "execution_count": 1,
      "metadata": {
        "colab": {
          "base_uri": "https://localhost:8080/"
        },
        "id": "Fa5_0fTlxGK5",
        "outputId": "b706f5f6-1a68-4314-f764-4b6800ee06e9"
      },
      "outputs": [
        {
          "output_type": "stream",
          "name": "stdout",
          "text": [
            "Mounted at /content/drive\n"
          ]
        }
      ],
      "source": [
        "from google.colab import drive\n",
        "drive.mount('/content/drive')"
      ]
    },
    {
      "cell_type": "markdown",
      "source": [
        "\n",
        "**Importing Dependencies**"
      ],
      "metadata": {
        "id": "hDgjM3bnx9Mi"
      }
    },
    {
      "cell_type": "code",
      "source": [
        "import pandas as pd\n",
        "import numpy as np\n",
        "import csv\n",
        "import random"
      ],
      "metadata": {
        "id": "LMwdTn0sxpQp"
      },
      "execution_count": 2,
      "outputs": []
    },
    {
      "cell_type": "markdown",
      "source": [
        "**Assign Directory**"
      ],
      "metadata": {
        "id": "hN1BJUeOyTqq"
      }
    },
    {
      "cell_type": "code",
      "source": [
        "abandoned_ndvi = pd.read_csv('/content/drive/MyDrive/CSV_fyp/abandoned/ndvi_yala_abandoned_2022_dataset.csv')\n",
        "abandoned_lswi = pd.read_csv('/content/drive/MyDrive/CSV_fyp/abandoned/lswi_yala_abandoned_2022_dataset.csv')\n",
        "\n",
        "cultivated_ndvi = pd.read_csv('/content/drive/MyDrive/CSV_fyp/cultivated/ndvi_yala_cultivated_2022_dataset.csv')\n",
        "cultivated_lswi = pd.read_csv('/content/drive/MyDrive/CSV_fyp/cultivated/lswi_yala_cultivated_2022_dataset.csv')"
      ],
      "metadata": {
        "id": "aTnmmx_JxsK4"
      },
      "execution_count": 3,
      "outputs": []
    },
    {
      "cell_type": "markdown",
      "source": [
        "## **Pre-processing**\n",
        "\n"
      ],
      "metadata": {
        "id": "8_V5egL1yty5"
      }
    },
    {
      "cell_type": "code",
      "source": [
        "# drop the label columns in both dataframes\n",
        "# axis 1 to drop columns\n",
        "abandoned_ndvi_values = abandoned_ndvi.drop(['label'],axis=1)\n",
        "abandoned_lswi_values = abandoned_lswi.drop(['label'],axis=1)\n",
        "\n",
        "cultivated_ndvi_values = cultivated_ndvi.drop(['label'],axis=1)\n",
        "cultivated_lswi_values = cultivated_lswi.drop(['label'],axis=1)"
      ],
      "metadata": {
        "id": "tTe3VpiLxs9R"
      },
      "execution_count": 4,
      "outputs": []
    },
    {
      "cell_type": "code",
      "source": [
        "abandoned_ndvi_values.head()"
      ],
      "metadata": {
        "id": "WjejTvUDxyeQ",
        "colab": {
          "base_uri": "https://localhost:8080/",
          "height": 206
        },
        "outputId": "f7d714e2-d370-4fc7-89c4-68a7a4bad06f"
      },
      "execution_count": 5,
      "outputs": [
        {
          "output_type": "execute_result",
          "data": {
            "text/plain": [
              "   day0  day9  day18  day27  day36  day45  day54  day63  day72  day81  day90  \\\n",
              "0  0.63  0.65   0.70   0.68   0.68   0.69   0.69   0.70   0.69   0.61   0.58   \n",
              "1  0.63  0.66   0.71   0.69   0.69   0.70   0.70   0.71   0.70   0.60   0.58   \n",
              "2  0.60  0.67   0.72   0.68   0.68   0.69   0.69   0.70   0.69   0.59   0.58   \n",
              "3  0.59  0.67   0.72   0.67   0.67   0.68   0.68   0.71   0.70   0.59   0.56   \n",
              "4  0.59  0.66   0.70   0.67   0.67   0.67   0.67   0.70   0.70   0.59   0.55   \n",
              "\n",
              "   day99  day108  day117  day126  day135  day144  day153  day162  day171  \n",
              "0   0.53    0.61    0.65    0.68    0.64    0.59    0.57    0.56    0.56  \n",
              "1   0.53    0.61    0.65    0.67    0.64    0.59    0.57    0.56    0.55  \n",
              "2   0.54    0.64    0.64    0.66    0.64    0.59    0.57    0.56    0.54  \n",
              "3   0.54    0.64    0.65    0.67    0.63    0.59    0.57    0.55    0.53  \n",
              "4   0.54    0.63    0.65    0.66    0.61    0.59    0.58    0.56    0.53  "
            ],
            "text/html": [
              "\n",
              "  <div id=\"df-e09d76a4-8897-4d6e-9e80-d7c3fce81599\">\n",
              "    <div class=\"colab-df-container\">\n",
              "      <div>\n",
              "<style scoped>\n",
              "    .dataframe tbody tr th:only-of-type {\n",
              "        vertical-align: middle;\n",
              "    }\n",
              "\n",
              "    .dataframe tbody tr th {\n",
              "        vertical-align: top;\n",
              "    }\n",
              "\n",
              "    .dataframe thead th {\n",
              "        text-align: right;\n",
              "    }\n",
              "</style>\n",
              "<table border=\"1\" class=\"dataframe\">\n",
              "  <thead>\n",
              "    <tr style=\"text-align: right;\">\n",
              "      <th></th>\n",
              "      <th>day0</th>\n",
              "      <th>day9</th>\n",
              "      <th>day18</th>\n",
              "      <th>day27</th>\n",
              "      <th>day36</th>\n",
              "      <th>day45</th>\n",
              "      <th>day54</th>\n",
              "      <th>day63</th>\n",
              "      <th>day72</th>\n",
              "      <th>day81</th>\n",
              "      <th>day90</th>\n",
              "      <th>day99</th>\n",
              "      <th>day108</th>\n",
              "      <th>day117</th>\n",
              "      <th>day126</th>\n",
              "      <th>day135</th>\n",
              "      <th>day144</th>\n",
              "      <th>day153</th>\n",
              "      <th>day162</th>\n",
              "      <th>day171</th>\n",
              "    </tr>\n",
              "  </thead>\n",
              "  <tbody>\n",
              "    <tr>\n",
              "      <th>0</th>\n",
              "      <td>0.63</td>\n",
              "      <td>0.65</td>\n",
              "      <td>0.70</td>\n",
              "      <td>0.68</td>\n",
              "      <td>0.68</td>\n",
              "      <td>0.69</td>\n",
              "      <td>0.69</td>\n",
              "      <td>0.70</td>\n",
              "      <td>0.69</td>\n",
              "      <td>0.61</td>\n",
              "      <td>0.58</td>\n",
              "      <td>0.53</td>\n",
              "      <td>0.61</td>\n",
              "      <td>0.65</td>\n",
              "      <td>0.68</td>\n",
              "      <td>0.64</td>\n",
              "      <td>0.59</td>\n",
              "      <td>0.57</td>\n",
              "      <td>0.56</td>\n",
              "      <td>0.56</td>\n",
              "    </tr>\n",
              "    <tr>\n",
              "      <th>1</th>\n",
              "      <td>0.63</td>\n",
              "      <td>0.66</td>\n",
              "      <td>0.71</td>\n",
              "      <td>0.69</td>\n",
              "      <td>0.69</td>\n",
              "      <td>0.70</td>\n",
              "      <td>0.70</td>\n",
              "      <td>0.71</td>\n",
              "      <td>0.70</td>\n",
              "      <td>0.60</td>\n",
              "      <td>0.58</td>\n",
              "      <td>0.53</td>\n",
              "      <td>0.61</td>\n",
              "      <td>0.65</td>\n",
              "      <td>0.67</td>\n",
              "      <td>0.64</td>\n",
              "      <td>0.59</td>\n",
              "      <td>0.57</td>\n",
              "      <td>0.56</td>\n",
              "      <td>0.55</td>\n",
              "    </tr>\n",
              "    <tr>\n",
              "      <th>2</th>\n",
              "      <td>0.60</td>\n",
              "      <td>0.67</td>\n",
              "      <td>0.72</td>\n",
              "      <td>0.68</td>\n",
              "      <td>0.68</td>\n",
              "      <td>0.69</td>\n",
              "      <td>0.69</td>\n",
              "      <td>0.70</td>\n",
              "      <td>0.69</td>\n",
              "      <td>0.59</td>\n",
              "      <td>0.58</td>\n",
              "      <td>0.54</td>\n",
              "      <td>0.64</td>\n",
              "      <td>0.64</td>\n",
              "      <td>0.66</td>\n",
              "      <td>0.64</td>\n",
              "      <td>0.59</td>\n",
              "      <td>0.57</td>\n",
              "      <td>0.56</td>\n",
              "      <td>0.54</td>\n",
              "    </tr>\n",
              "    <tr>\n",
              "      <th>3</th>\n",
              "      <td>0.59</td>\n",
              "      <td>0.67</td>\n",
              "      <td>0.72</td>\n",
              "      <td>0.67</td>\n",
              "      <td>0.67</td>\n",
              "      <td>0.68</td>\n",
              "      <td>0.68</td>\n",
              "      <td>0.71</td>\n",
              "      <td>0.70</td>\n",
              "      <td>0.59</td>\n",
              "      <td>0.56</td>\n",
              "      <td>0.54</td>\n",
              "      <td>0.64</td>\n",
              "      <td>0.65</td>\n",
              "      <td>0.67</td>\n",
              "      <td>0.63</td>\n",
              "      <td>0.59</td>\n",
              "      <td>0.57</td>\n",
              "      <td>0.55</td>\n",
              "      <td>0.53</td>\n",
              "    </tr>\n",
              "    <tr>\n",
              "      <th>4</th>\n",
              "      <td>0.59</td>\n",
              "      <td>0.66</td>\n",
              "      <td>0.70</td>\n",
              "      <td>0.67</td>\n",
              "      <td>0.67</td>\n",
              "      <td>0.67</td>\n",
              "      <td>0.67</td>\n",
              "      <td>0.70</td>\n",
              "      <td>0.70</td>\n",
              "      <td>0.59</td>\n",
              "      <td>0.55</td>\n",
              "      <td>0.54</td>\n",
              "      <td>0.63</td>\n",
              "      <td>0.65</td>\n",
              "      <td>0.66</td>\n",
              "      <td>0.61</td>\n",
              "      <td>0.59</td>\n",
              "      <td>0.58</td>\n",
              "      <td>0.56</td>\n",
              "      <td>0.53</td>\n",
              "    </tr>\n",
              "  </tbody>\n",
              "</table>\n",
              "</div>\n",
              "      <button class=\"colab-df-convert\" onclick=\"convertToInteractive('df-e09d76a4-8897-4d6e-9e80-d7c3fce81599')\"\n",
              "              title=\"Convert this dataframe to an interactive table.\"\n",
              "              style=\"display:none;\">\n",
              "        \n",
              "  <svg xmlns=\"http://www.w3.org/2000/svg\" height=\"24px\"viewBox=\"0 0 24 24\"\n",
              "       width=\"24px\">\n",
              "    <path d=\"M0 0h24v24H0V0z\" fill=\"none\"/>\n",
              "    <path d=\"M18.56 5.44l.94 2.06.94-2.06 2.06-.94-2.06-.94-.94-2.06-.94 2.06-2.06.94zm-11 1L8.5 8.5l.94-2.06 2.06-.94-2.06-.94L8.5 2.5l-.94 2.06-2.06.94zm10 10l.94 2.06.94-2.06 2.06-.94-2.06-.94-.94-2.06-.94 2.06-2.06.94z\"/><path d=\"M17.41 7.96l-1.37-1.37c-.4-.4-.92-.59-1.43-.59-.52 0-1.04.2-1.43.59L10.3 9.45l-7.72 7.72c-.78.78-.78 2.05 0 2.83L4 21.41c.39.39.9.59 1.41.59.51 0 1.02-.2 1.41-.59l7.78-7.78 2.81-2.81c.8-.78.8-2.07 0-2.86zM5.41 20L4 18.59l7.72-7.72 1.47 1.35L5.41 20z\"/>\n",
              "  </svg>\n",
              "      </button>\n",
              "      \n",
              "  <style>\n",
              "    .colab-df-container {\n",
              "      display:flex;\n",
              "      flex-wrap:wrap;\n",
              "      gap: 12px;\n",
              "    }\n",
              "\n",
              "    .colab-df-convert {\n",
              "      background-color: #E8F0FE;\n",
              "      border: none;\n",
              "      border-radius: 50%;\n",
              "      cursor: pointer;\n",
              "      display: none;\n",
              "      fill: #1967D2;\n",
              "      height: 32px;\n",
              "      padding: 0 0 0 0;\n",
              "      width: 32px;\n",
              "    }\n",
              "\n",
              "    .colab-df-convert:hover {\n",
              "      background-color: #E2EBFA;\n",
              "      box-shadow: 0px 1px 2px rgba(60, 64, 67, 0.3), 0px 1px 3px 1px rgba(60, 64, 67, 0.15);\n",
              "      fill: #174EA6;\n",
              "    }\n",
              "\n",
              "    [theme=dark] .colab-df-convert {\n",
              "      background-color: #3B4455;\n",
              "      fill: #D2E3FC;\n",
              "    }\n",
              "\n",
              "    [theme=dark] .colab-df-convert:hover {\n",
              "      background-color: #434B5C;\n",
              "      box-shadow: 0px 1px 3px 1px rgba(0, 0, 0, 0.15);\n",
              "      filter: drop-shadow(0px 1px 2px rgba(0, 0, 0, 0.3));\n",
              "      fill: #FFFFFF;\n",
              "    }\n",
              "  </style>\n",
              "\n",
              "      <script>\n",
              "        const buttonEl =\n",
              "          document.querySelector('#df-e09d76a4-8897-4d6e-9e80-d7c3fce81599 button.colab-df-convert');\n",
              "        buttonEl.style.display =\n",
              "          google.colab.kernel.accessAllowed ? 'block' : 'none';\n",
              "\n",
              "        async function convertToInteractive(key) {\n",
              "          const element = document.querySelector('#df-e09d76a4-8897-4d6e-9e80-d7c3fce81599');\n",
              "          const dataTable =\n",
              "            await google.colab.kernel.invokeFunction('convertToInteractive',\n",
              "                                                     [key], {});\n",
              "          if (!dataTable) return;\n",
              "\n",
              "          const docLinkHtml = 'Like what you see? Visit the ' +\n",
              "            '<a target=\"_blank\" href=https://colab.research.google.com/notebooks/data_table.ipynb>data table notebook</a>'\n",
              "            + ' to learn more about interactive tables.';\n",
              "          element.innerHTML = '';\n",
              "          dataTable['output_type'] = 'display_data';\n",
              "          await google.colab.output.renderOutput(dataTable, element);\n",
              "          const docLink = document.createElement('div');\n",
              "          docLink.innerHTML = docLinkHtml;\n",
              "          element.appendChild(docLink);\n",
              "        }\n",
              "      </script>\n",
              "    </div>\n",
              "  </div>\n",
              "  "
            ]
          },
          "metadata": {},
          "execution_count": 5
        }
      ]
    },
    {
      "cell_type": "code",
      "source": [
        "abandoned_lswi_values.head()"
      ],
      "metadata": {
        "id": "k1bpECzPx0y4",
        "colab": {
          "base_uri": "https://localhost:8080/",
          "height": 206
        },
        "outputId": "3df3a6b0-ee64-4688-c8f0-72496ca30612"
      },
      "execution_count": 6,
      "outputs": [
        {
          "output_type": "execute_result",
          "data": {
            "text/plain": [
              "   day0  day8  day17  day26  day34  day43  day52  day60  day69  day78  day86  \\\n",
              "0  0.34  0.35   0.35   0.35   0.36   0.33   0.31   0.28   0.26   0.24   0.22   \n",
              "1  0.34  0.35   0.35   0.35   0.36   0.33   0.31   0.28   0.26   0.24   0.22   \n",
              "2  0.34  0.35   0.35   0.35   0.36   0.33   0.31   0.28   0.26   0.24   0.22   \n",
              "3  0.34  0.35   0.35   0.35   0.36   0.33   0.31   0.28   0.26   0.24   0.22   \n",
              "4  0.34  0.35   0.35   0.35   0.36   0.33   0.31   0.28   0.26   0.23   0.22   \n",
              "\n",
              "   day95  day104  day112  day121  day130  day138  day147  day156  day165  \n",
              "0   0.21    0.24    0.27    0.30     0.3    0.28    0.26    0.24    0.14  \n",
              "1   0.21    0.24    0.27    0.30     0.3    0.28    0.26    0.24    0.14  \n",
              "2   0.21    0.24    0.27    0.30     0.3    0.28    0.26    0.24    0.14  \n",
              "3   0.21    0.24    0.26    0.29     0.3    0.28    0.26    0.24    0.14  \n",
              "4   0.20    0.23    0.26    0.29     0.3    0.28    0.26    0.24    0.13  "
            ],
            "text/html": [
              "\n",
              "  <div id=\"df-ea87cb09-4b32-4b36-8413-bc07aa83ab0e\">\n",
              "    <div class=\"colab-df-container\">\n",
              "      <div>\n",
              "<style scoped>\n",
              "    .dataframe tbody tr th:only-of-type {\n",
              "        vertical-align: middle;\n",
              "    }\n",
              "\n",
              "    .dataframe tbody tr th {\n",
              "        vertical-align: top;\n",
              "    }\n",
              "\n",
              "    .dataframe thead th {\n",
              "        text-align: right;\n",
              "    }\n",
              "</style>\n",
              "<table border=\"1\" class=\"dataframe\">\n",
              "  <thead>\n",
              "    <tr style=\"text-align: right;\">\n",
              "      <th></th>\n",
              "      <th>day0</th>\n",
              "      <th>day8</th>\n",
              "      <th>day17</th>\n",
              "      <th>day26</th>\n",
              "      <th>day34</th>\n",
              "      <th>day43</th>\n",
              "      <th>day52</th>\n",
              "      <th>day60</th>\n",
              "      <th>day69</th>\n",
              "      <th>day78</th>\n",
              "      <th>day86</th>\n",
              "      <th>day95</th>\n",
              "      <th>day104</th>\n",
              "      <th>day112</th>\n",
              "      <th>day121</th>\n",
              "      <th>day130</th>\n",
              "      <th>day138</th>\n",
              "      <th>day147</th>\n",
              "      <th>day156</th>\n",
              "      <th>day165</th>\n",
              "    </tr>\n",
              "  </thead>\n",
              "  <tbody>\n",
              "    <tr>\n",
              "      <th>0</th>\n",
              "      <td>0.34</td>\n",
              "      <td>0.35</td>\n",
              "      <td>0.35</td>\n",
              "      <td>0.35</td>\n",
              "      <td>0.36</td>\n",
              "      <td>0.33</td>\n",
              "      <td>0.31</td>\n",
              "      <td>0.28</td>\n",
              "      <td>0.26</td>\n",
              "      <td>0.24</td>\n",
              "      <td>0.22</td>\n",
              "      <td>0.21</td>\n",
              "      <td>0.24</td>\n",
              "      <td>0.27</td>\n",
              "      <td>0.30</td>\n",
              "      <td>0.3</td>\n",
              "      <td>0.28</td>\n",
              "      <td>0.26</td>\n",
              "      <td>0.24</td>\n",
              "      <td>0.14</td>\n",
              "    </tr>\n",
              "    <tr>\n",
              "      <th>1</th>\n",
              "      <td>0.34</td>\n",
              "      <td>0.35</td>\n",
              "      <td>0.35</td>\n",
              "      <td>0.35</td>\n",
              "      <td>0.36</td>\n",
              "      <td>0.33</td>\n",
              "      <td>0.31</td>\n",
              "      <td>0.28</td>\n",
              "      <td>0.26</td>\n",
              "      <td>0.24</td>\n",
              "      <td>0.22</td>\n",
              "      <td>0.21</td>\n",
              "      <td>0.24</td>\n",
              "      <td>0.27</td>\n",
              "      <td>0.30</td>\n",
              "      <td>0.3</td>\n",
              "      <td>0.28</td>\n",
              "      <td>0.26</td>\n",
              "      <td>0.24</td>\n",
              "      <td>0.14</td>\n",
              "    </tr>\n",
              "    <tr>\n",
              "      <th>2</th>\n",
              "      <td>0.34</td>\n",
              "      <td>0.35</td>\n",
              "      <td>0.35</td>\n",
              "      <td>0.35</td>\n",
              "      <td>0.36</td>\n",
              "      <td>0.33</td>\n",
              "      <td>0.31</td>\n",
              "      <td>0.28</td>\n",
              "      <td>0.26</td>\n",
              "      <td>0.24</td>\n",
              "      <td>0.22</td>\n",
              "      <td>0.21</td>\n",
              "      <td>0.24</td>\n",
              "      <td>0.27</td>\n",
              "      <td>0.30</td>\n",
              "      <td>0.3</td>\n",
              "      <td>0.28</td>\n",
              "      <td>0.26</td>\n",
              "      <td>0.24</td>\n",
              "      <td>0.14</td>\n",
              "    </tr>\n",
              "    <tr>\n",
              "      <th>3</th>\n",
              "      <td>0.34</td>\n",
              "      <td>0.35</td>\n",
              "      <td>0.35</td>\n",
              "      <td>0.35</td>\n",
              "      <td>0.36</td>\n",
              "      <td>0.33</td>\n",
              "      <td>0.31</td>\n",
              "      <td>0.28</td>\n",
              "      <td>0.26</td>\n",
              "      <td>0.24</td>\n",
              "      <td>0.22</td>\n",
              "      <td>0.21</td>\n",
              "      <td>0.24</td>\n",
              "      <td>0.26</td>\n",
              "      <td>0.29</td>\n",
              "      <td>0.3</td>\n",
              "      <td>0.28</td>\n",
              "      <td>0.26</td>\n",
              "      <td>0.24</td>\n",
              "      <td>0.14</td>\n",
              "    </tr>\n",
              "    <tr>\n",
              "      <th>4</th>\n",
              "      <td>0.34</td>\n",
              "      <td>0.35</td>\n",
              "      <td>0.35</td>\n",
              "      <td>0.35</td>\n",
              "      <td>0.36</td>\n",
              "      <td>0.33</td>\n",
              "      <td>0.31</td>\n",
              "      <td>0.28</td>\n",
              "      <td>0.26</td>\n",
              "      <td>0.23</td>\n",
              "      <td>0.22</td>\n",
              "      <td>0.20</td>\n",
              "      <td>0.23</td>\n",
              "      <td>0.26</td>\n",
              "      <td>0.29</td>\n",
              "      <td>0.3</td>\n",
              "      <td>0.28</td>\n",
              "      <td>0.26</td>\n",
              "      <td>0.24</td>\n",
              "      <td>0.13</td>\n",
              "    </tr>\n",
              "  </tbody>\n",
              "</table>\n",
              "</div>\n",
              "      <button class=\"colab-df-convert\" onclick=\"convertToInteractive('df-ea87cb09-4b32-4b36-8413-bc07aa83ab0e')\"\n",
              "              title=\"Convert this dataframe to an interactive table.\"\n",
              "              style=\"display:none;\">\n",
              "        \n",
              "  <svg xmlns=\"http://www.w3.org/2000/svg\" height=\"24px\"viewBox=\"0 0 24 24\"\n",
              "       width=\"24px\">\n",
              "    <path d=\"M0 0h24v24H0V0z\" fill=\"none\"/>\n",
              "    <path d=\"M18.56 5.44l.94 2.06.94-2.06 2.06-.94-2.06-.94-.94-2.06-.94 2.06-2.06.94zm-11 1L8.5 8.5l.94-2.06 2.06-.94-2.06-.94L8.5 2.5l-.94 2.06-2.06.94zm10 10l.94 2.06.94-2.06 2.06-.94-2.06-.94-.94-2.06-.94 2.06-2.06.94z\"/><path d=\"M17.41 7.96l-1.37-1.37c-.4-.4-.92-.59-1.43-.59-.52 0-1.04.2-1.43.59L10.3 9.45l-7.72 7.72c-.78.78-.78 2.05 0 2.83L4 21.41c.39.39.9.59 1.41.59.51 0 1.02-.2 1.41-.59l7.78-7.78 2.81-2.81c.8-.78.8-2.07 0-2.86zM5.41 20L4 18.59l7.72-7.72 1.47 1.35L5.41 20z\"/>\n",
              "  </svg>\n",
              "      </button>\n",
              "      \n",
              "  <style>\n",
              "    .colab-df-container {\n",
              "      display:flex;\n",
              "      flex-wrap:wrap;\n",
              "      gap: 12px;\n",
              "    }\n",
              "\n",
              "    .colab-df-convert {\n",
              "      background-color: #E8F0FE;\n",
              "      border: none;\n",
              "      border-radius: 50%;\n",
              "      cursor: pointer;\n",
              "      display: none;\n",
              "      fill: #1967D2;\n",
              "      height: 32px;\n",
              "      padding: 0 0 0 0;\n",
              "      width: 32px;\n",
              "    }\n",
              "\n",
              "    .colab-df-convert:hover {\n",
              "      background-color: #E2EBFA;\n",
              "      box-shadow: 0px 1px 2px rgba(60, 64, 67, 0.3), 0px 1px 3px 1px rgba(60, 64, 67, 0.15);\n",
              "      fill: #174EA6;\n",
              "    }\n",
              "\n",
              "    [theme=dark] .colab-df-convert {\n",
              "      background-color: #3B4455;\n",
              "      fill: #D2E3FC;\n",
              "    }\n",
              "\n",
              "    [theme=dark] .colab-df-convert:hover {\n",
              "      background-color: #434B5C;\n",
              "      box-shadow: 0px 1px 3px 1px rgba(0, 0, 0, 0.15);\n",
              "      filter: drop-shadow(0px 1px 2px rgba(0, 0, 0, 0.3));\n",
              "      fill: #FFFFFF;\n",
              "    }\n",
              "  </style>\n",
              "\n",
              "      <script>\n",
              "        const buttonEl =\n",
              "          document.querySelector('#df-ea87cb09-4b32-4b36-8413-bc07aa83ab0e button.colab-df-convert');\n",
              "        buttonEl.style.display =\n",
              "          google.colab.kernel.accessAllowed ? 'block' : 'none';\n",
              "\n",
              "        async function convertToInteractive(key) {\n",
              "          const element = document.querySelector('#df-ea87cb09-4b32-4b36-8413-bc07aa83ab0e');\n",
              "          const dataTable =\n",
              "            await google.colab.kernel.invokeFunction('convertToInteractive',\n",
              "                                                     [key], {});\n",
              "          if (!dataTable) return;\n",
              "\n",
              "          const docLinkHtml = 'Like what you see? Visit the ' +\n",
              "            '<a target=\"_blank\" href=https://colab.research.google.com/notebooks/data_table.ipynb>data table notebook</a>'\n",
              "            + ' to learn more about interactive tables.';\n",
              "          element.innerHTML = '';\n",
              "          dataTable['output_type'] = 'display_data';\n",
              "          await google.colab.output.renderOutput(dataTable, element);\n",
              "          const docLink = document.createElement('div');\n",
              "          docLink.innerHTML = docLinkHtml;\n",
              "          element.appendChild(docLink);\n",
              "        }\n",
              "      </script>\n",
              "    </div>\n",
              "  </div>\n",
              "  "
            ]
          },
          "metadata": {},
          "execution_count": 6
        }
      ]
    },
    {
      "cell_type": "code",
      "source": [
        "# dataframe with only column to np array\n",
        "abandoned_ndvi_array = np.array(abandoned_ndvi_values)\n",
        "abandoned_lswi_array = np.array(abandoned_lswi_values)\n",
        "\n",
        "cultivated_ndvi_array = np.array(cultivated_ndvi_values)\n",
        "cultivated_lswi_array = np.array(cultivated_lswi_values)"
      ],
      "metadata": {
        "id": "yoAvGBQXx25o"
      },
      "execution_count": 7,
      "outputs": []
    },
    {
      "cell_type": "code",
      "source": [
        "print('ab ndvi -',len(abandoned_ndvi_array))\n",
        "print('ab lstw -',len(abandoned_lswi_array))\n",
        "print('cu ndvi -',len(cultivated_ndvi_array))\n",
        "print('cu lstw -',len(cultivated_lswi_array))"
      ],
      "metadata": {
        "id": "ppYCzQipx62y",
        "colab": {
          "base_uri": "https://localhost:8080/"
        },
        "outputId": "271a52ce-a95e-424a-af12-a3bdcd83298c"
      },
      "execution_count": 8,
      "outputs": [
        {
          "output_type": "stream",
          "name": "stdout",
          "text": [
            "ab ndvi - 4758\n",
            "ab lstw - 4800\n",
            "cu ndvi - 12008\n",
            "cu lstw - 11680\n"
          ]
        }
      ]
    },
    {
      "cell_type": "code",
      "source": [
        "number_of_rows_abandoned = len(abandoned_ndvi_array) if len(abandoned_ndvi_array) <= len(abandoned_lswi_array) else len(abandoned_lswi_array)\n",
        "number_of_rows_cultivated = len(cultivated_ndvi_array) if len(cultivated_ndvi_array) <= len(cultivated_lswi_array) else len(cultivated_lswi_array)\n",
        "\n",
        "print('ab',number_of_rows_abandoned)\n",
        "print('cu',number_of_rows_cultivated)"
      ],
      "metadata": {
        "colab": {
          "base_uri": "https://localhost:8080/"
        },
        "id": "WpL44gze0Un2",
        "outputId": "a0d8310f-a5a9-47ce-e2e7-0f844c5e23f2"
      },
      "execution_count": 9,
      "outputs": [
        {
          "output_type": "stream",
          "name": "stdout",
          "text": [
            "ab 4758\n",
            "cu 11680\n"
          ]
        }
      ]
    },
    {
      "cell_type": "markdown",
      "source": [
        "### **Re-arranging data as [NDVI,LSWI] pairs**"
      ],
      "metadata": {
        "id": "2gg7aD9d0aMG"
      }
    },
    {
      "cell_type": "markdown",
      "source": [
        "#### **Abandoned Paddy Lands**"
      ],
      "metadata": {
        "id": "VY82Lwd20sDt"
      }
    },
    {
      "cell_type": "code",
      "source": [
        "abandoned_ndvi_lswi_all_pixels=[]\n",
        "\n",
        "for i in range(number_of_rows_abandoned):\n",
        "\n",
        "  abandoned_ndvi_lswi_single_pixel=[]\n",
        "\n",
        "  for j in range(len(abandoned_ndvi_array[i])):\n",
        "\n",
        "    ndvi_lswi_per_day=[abandoned_ndvi_array[i][j],abandoned_lswi_array[i][j]]\n",
        "\n",
        "    abandoned_ndvi_lswi_single_pixel.append(ndvi_lswi_per_day)\n",
        "\n",
        "  abandoned_ndvi_lswi_all_pixels.append(abandoned_ndvi_lswi_single_pixel)"
      ],
      "metadata": {
        "id": "Vt6g95Tt0ZhJ"
      },
      "execution_count": 10,
      "outputs": []
    },
    {
      "cell_type": "markdown",
      "source": [
        "#### **Cultivated Paddy Lands**"
      ],
      "metadata": {
        "id": "mRfZHzJL018i"
      }
    },
    {
      "cell_type": "code",
      "source": [
        "cultivated_ndvi_lswi_all_pixels=[]\n",
        "\n",
        "for i in range(number_of_rows_cultivated):\n",
        "\n",
        "  cultivated_ndvi_lswi_single_pixel=[]\n",
        "\n",
        "  for j in range(len(cultivated_ndvi_array[i])):\n",
        "\n",
        "    ndvi_lswi_per_day=[cultivated_ndvi_array[i][j],cultivated_lswi_array[i][j]]\n",
        "\n",
        "    cultivated_ndvi_lswi_single_pixel.append(ndvi_lswi_per_day)\n",
        "\n",
        "  cultivated_ndvi_lswi_all_pixels.append(cultivated_ndvi_lswi_single_pixel)"
      ],
      "metadata": {
        "id": "FRAGjw2k1Q3V"
      },
      "execution_count": 11,
      "outputs": []
    },
    {
      "cell_type": "markdown",
      "source": [
        "### **Randomising Data**"
      ],
      "metadata": {
        "id": "HD_2kftp1qWP"
      }
    },
    {
      "cell_type": "markdown",
      "source": [
        "**Function to generate Random Indices**"
      ],
      "metadata": {
        "id": "zPyUtEoY12ww"
      }
    },
    {
      "cell_type": "code",
      "source": [
        "def generate_random_indices(number_of_rows):\n",
        "  number_of_samples = 1000\n",
        "\n",
        "  # array with random indices from 0 to length of data array\n",
        "  random_indices = []\n",
        "\n",
        "  while len(random_indices)<number_of_samples:\n",
        "\n",
        "    # generating random number\n",
        "    rand = random.randint(0,number_of_rows-1)\n",
        "\n",
        "    # if generated number is not in the indices array then add to indices array\n",
        "    if rand in random_indices:\n",
        "      pass\n",
        "    else:\n",
        "      random_indices.append(rand)\n",
        "\n",
        "  return random_indices"
      ],
      "metadata": {
        "id": "TnWfBNY11xzb"
      },
      "execution_count": 12,
      "outputs": []
    },
    {
      "cell_type": "markdown",
      "source": [
        "**Generating Random Indices**"
      ],
      "metadata": {
        "id": "vEArJxsg2NUP"
      }
    },
    {
      "cell_type": "code",
      "source": [
        "abandoned_random_indices = generate_random_indices(number_of_rows_abandoned)\n",
        "cultivated_random_indices = generate_random_indices(number_of_rows_cultivated)\n",
        "\n",
        "print('ab -',len(abandoned_random_indices))\n",
        "print('cu -',len(cultivated_random_indices))"
      ],
      "metadata": {
        "colab": {
          "base_uri": "https://localhost:8080/"
        },
        "id": "mF83vhRv2DVP",
        "outputId": "adc867da-9408-4195-f327-bc71663d2220"
      },
      "execution_count": 13,
      "outputs": [
        {
          "output_type": "stream",
          "name": "stdout",
          "text": [
            "ab - 1000\n",
            "cu - 1000\n"
          ]
        }
      ]
    },
    {
      "cell_type": "markdown",
      "source": [
        "### **Create arrays with Randomised Datapoints**\n",
        "\n",
        "0 - abandoned\n",
        "\n",
        "1 - cultivated"
      ],
      "metadata": {
        "id": "8MIO9l1E2TWu"
      }
    },
    {
      "cell_type": "code",
      "source": [
        "X = []\n",
        "Y = []\n",
        "for i in abandoned_random_indices:\n",
        "  X.append(abandoned_ndvi_lswi_all_pixels[i])\n",
        "  Y.append(0)\n",
        "\n",
        "for j in cultivated_random_indices:\n",
        "  X.append(cultivated_ndvi_lswi_all_pixels[j])\n",
        "  Y.append(1)"
      ],
      "metadata": {
        "id": "4gtRbW-o2KgT"
      },
      "execution_count": 14,
      "outputs": []
    },
    {
      "cell_type": "markdown",
      "source": [
        "## **Analyse the Processed Data**"
      ],
      "metadata": {
        "id": "UIv00Edm2myP"
      }
    },
    {
      "cell_type": "code",
      "source": [
        "print(np.array(X).shape)"
      ],
      "metadata": {
        "colab": {
          "base_uri": "https://localhost:8080/"
        },
        "id": "t0X6yTO83RaT",
        "outputId": "d5065716-96b6-49dc-e285-9bfa8a63429c"
      },
      "execution_count": 15,
      "outputs": [
        {
          "output_type": "stream",
          "name": "stdout",
          "text": [
            "(2000, 20, 2)\n"
          ]
        }
      ]
    },
    {
      "cell_type": "code",
      "source": [
        "X[0:1]"
      ],
      "metadata": {
        "colab": {
          "base_uri": "https://localhost:8080/"
        },
        "id": "2PxFaB2T3wbc",
        "outputId": "b3e4f32e-9ebb-4f14-e0ce-355b06dc7750"
      },
      "execution_count": 16,
      "outputs": [
        {
          "output_type": "execute_result",
          "data": {
            "text/plain": [
              "[[[0.59, 0.36],\n",
              "  [0.63, 0.36],\n",
              "  [0.68, 0.33],\n",
              "  [0.67, 0.32],\n",
              "  [0.66, 0.32],\n",
              "  [0.65, 0.3],\n",
              "  [0.64, 0.27],\n",
              "  [0.66, 0.25],\n",
              "  [0.66, 0.23],\n",
              "  [0.57, 0.2],\n",
              "  [0.56, 0.19],\n",
              "  [0.51, 0.17],\n",
              "  [0.6, 0.19],\n",
              "  [0.57, 0.22],\n",
              "  [0.62, 0.24],\n",
              "  [0.59, 0.27],\n",
              "  [0.57, 0.25],\n",
              "  [0.56, 0.23],\n",
              "  [0.55, 0.22],\n",
              "  [0.54, 0.05]]]"
            ]
          },
          "metadata": {},
          "execution_count": 16
        }
      ]
    },
    {
      "cell_type": "code",
      "source": [
        "print(np.array(Y).shape)"
      ],
      "metadata": {
        "colab": {
          "base_uri": "https://localhost:8080/"
        },
        "id": "7fq0rrrF3WsX",
        "outputId": "ca07bd00-e799-4f61-c281-7b4c32c56825"
      },
      "execution_count": 17,
      "outputs": [
        {
          "output_type": "stream",
          "name": "stdout",
          "text": [
            "(2000,)\n"
          ]
        }
      ]
    },
    {
      "cell_type": "code",
      "source": [
        "print(Y[950:1150])"
      ],
      "metadata": {
        "colab": {
          "base_uri": "https://localhost:8080/"
        },
        "id": "eiePsQMV4Bhl",
        "outputId": "64579706-5b13-49b9-9a4e-49d11e6ac3fe"
      },
      "execution_count": 18,
      "outputs": [
        {
          "output_type": "stream",
          "name": "stdout",
          "text": [
            "[0, 0, 0, 0, 0, 0, 0, 0, 0, 0, 0, 0, 0, 0, 0, 0, 0, 0, 0, 0, 0, 0, 0, 0, 0, 0, 0, 0, 0, 0, 0, 0, 0, 0, 0, 0, 0, 0, 0, 0, 0, 0, 0, 0, 0, 0, 0, 0, 0, 0, 1, 1, 1, 1, 1, 1, 1, 1, 1, 1, 1, 1, 1, 1, 1, 1, 1, 1, 1, 1, 1, 1, 1, 1, 1, 1, 1, 1, 1, 1, 1, 1, 1, 1, 1, 1, 1, 1, 1, 1, 1, 1, 1, 1, 1, 1, 1, 1, 1, 1, 1, 1, 1, 1, 1, 1, 1, 1, 1, 1, 1, 1, 1, 1, 1, 1, 1, 1, 1, 1, 1, 1, 1, 1, 1, 1, 1, 1, 1, 1, 1, 1, 1, 1, 1, 1, 1, 1, 1, 1, 1, 1, 1, 1, 1, 1, 1, 1, 1, 1, 1, 1, 1, 1, 1, 1, 1, 1, 1, 1, 1, 1, 1, 1, 1, 1, 1, 1, 1, 1, 1, 1, 1, 1, 1, 1, 1, 1, 1, 1, 1, 1, 1, 1, 1, 1, 1, 1, 1, 1, 1, 1, 1, 1, 1, 1, 1, 1, 1, 1]\n"
          ]
        }
      ]
    },
    {
      "cell_type": "markdown",
      "source": [
        "## **Dependencies to Train Model**"
      ],
      "metadata": {
        "id": "c1YtwJLI6jYu"
      }
    },
    {
      "cell_type": "code",
      "source": [
        "#Model\n",
        "from keras.models import Sequential\n",
        "from keras.layers import LSTM,Dense,Dropout\n",
        "\n",
        "#Feature Extraction\n",
        "from sklearn.preprocessing import StandardScaler, MinMaxScaler\n",
        "from sklearn.model_selection import train_test_split\n",
        "from sklearn.metrics import mean_squared_error,classification_report, confusion_matrix, accuracy_score, roc_curve, roc_auc_score\n",
        "\n",
        "#Visualisation\n",
        "from matplotlib import pyplot as plt\n",
        "import seaborn as sns"
      ],
      "metadata": {
        "id": "4f0xlzI26idf"
      },
      "execution_count": 19,
      "outputs": []
    },
    {
      "cell_type": "markdown",
      "source": [
        "Input to LSTM layer must be three-dimensional.\n",
        "\n",
        "The three dimensions of this input are:\n",
        "\n",
        "- Samples : One sequence is one sample. A batch is comprised of one or more samples.\n",
        "  - Size of Training Sample\n",
        "- Time Steps : One time step is one point of observation in the sample.\n",
        "  - Number of Days - 20.\n",
        "- Features : One feature is one observation at a time step.\n",
        "  - NDVI , LSWI - 2"
      ],
      "metadata": {
        "id": "KAy3xi2d7Kcq"
      }
    },
    {
      "cell_type": "code",
      "source": [
        "#splitting to train and test data\n",
        "X_train, X_test, Y_train, Y_test = train_test_split(X, Y, test_size=0.33)\n",
        "\n",
        "#X_train, Y_train = np.array(X_train), np.array(Y_train)\n",
        "#X_test, Y_test = np.array(X_test), np.array(Y_test)"
      ],
      "metadata": {
        "id": "xVGEvic47Uiv"
      },
      "execution_count": 20,
      "outputs": []
    },
    {
      "cell_type": "code",
      "source": [
        "print(np.array(X_train).shape)\n",
        "print(np.array(X_test).shape)"
      ],
      "metadata": {
        "colab": {
          "base_uri": "https://localhost:8080/"
        },
        "id": "_Uze7itN7fYm",
        "outputId": "50d51dad-4061-4471-a522-454f8e9820fb"
      },
      "execution_count": 21,
      "outputs": [
        {
          "output_type": "stream",
          "name": "stdout",
          "text": [
            "(1340, 20, 2)\n",
            "(660, 20, 2)\n"
          ]
        }
      ]
    },
    {
      "cell_type": "code",
      "source": [
        "Y_train[0:10]"
      ],
      "metadata": {
        "colab": {
          "base_uri": "https://localhost:8080/"
        },
        "id": "5XbJrVRvs7E0",
        "outputId": "ba246885-e7bb-46f2-f8c5-e0458c669f37"
      },
      "execution_count": 22,
      "outputs": [
        {
          "output_type": "execute_result",
          "data": {
            "text/plain": [
              "[0, 0, 1, 0, 0, 1, 1, 1, 1, 1]"
            ]
          },
          "metadata": {},
          "execution_count": 22
        }
      ]
    },
    {
      "cell_type": "markdown",
      "source": [
        "## **Feature Extraction**"
      ],
      "metadata": {
        "id": "Aw-3zL767sKH"
      }
    },
    {
      "cell_type": "code",
      "source": [
        "#min_max_scaler = MinMaxScaler()\n",
        "\n",
        "#min_max_scaler.fit(tn)\n",
        "#scaled_train = min_max_scaler.transform(tn)\n",
        "#scaled_test = min_max_scaler.transform(X_train[0])\n",
        "\n",
        "\n",
        "#stand_scaler = StandardScaler()\n",
        "#stand_scaler = stand_scaler.fit(X_train)\n",
        "#X_train_feature = stand_scaler.transform(X_train)"
      ],
      "metadata": {
        "id": "j3qY40FK7rfm"
      },
      "execution_count": 23,
      "outputs": []
    },
    {
      "cell_type": "markdown",
      "source": [
        "## **Neural Network**"
      ],
      "metadata": {
        "id": "pGKJFA_Q8Au0"
      }
    },
    {
      "cell_type": "code",
      "source": [
        "neurons = 64\n",
        "dropout = 0.8\n",
        "optmiser = 'adam'\n",
        "loss_function = 'binary_crossentropy'\n",
        "epoch = 10\n",
        "batch = 32"
      ],
      "metadata": {
        "id": "IeeDORqxD7nH"
      },
      "execution_count": 24,
      "outputs": []
    },
    {
      "cell_type": "code",
      "source": [
        "# design network\n",
        "model = Sequential()\n",
        "model.add(LSTM(neurons,activation='relu', input_shape=(20,2)))\n",
        "model.add(Dropout(dropout))\n",
        "#model.add(Dense(1, activation='relu'))\n",
        "model.add(Dense(1, activation='sigmoid'))\n",
        "model.compile(optimizer=optmiser, loss=loss_function, metrics=['accuracy'])\n",
        "\n",
        "model.summary()"
      ],
      "metadata": {
        "colab": {
          "base_uri": "https://localhost:8080/"
        },
        "id": "RRWxYre08AIu",
        "outputId": "b1886c70-0aab-41cb-ecdb-cd2d18fa7d60"
      },
      "execution_count": 25,
      "outputs": [
        {
          "output_type": "stream",
          "name": "stdout",
          "text": [
            "Model: \"sequential\"\n",
            "_________________________________________________________________\n",
            " Layer (type)                Output Shape              Param #   \n",
            "=================================================================\n",
            " lstm (LSTM)                 (None, 64)                17152     \n",
            "                                                                 \n",
            " dropout (Dropout)           (None, 64)                0         \n",
            "                                                                 \n",
            " dense (Dense)               (None, 1)                 65        \n",
            "                                                                 \n",
            "=================================================================\n",
            "Total params: 17,217\n",
            "Trainable params: 17,217\n",
            "Non-trainable params: 0\n",
            "_________________________________________________________________\n"
          ]
        }
      ]
    },
    {
      "cell_type": "code",
      "source": [
        "# fit network\n",
        "history = model.fit(X_train, Y_train, epochs=epoch, batch_size=batch, validation_data=(X_test, Y_test), verbose=2, shuffle=True)"
      ],
      "metadata": {
        "colab": {
          "base_uri": "https://localhost:8080/"
        },
        "id": "NifWrFL-8H0p",
        "outputId": "b2a595c6-0a23-4f80-efde-cc09bd0f73dc"
      },
      "execution_count": 26,
      "outputs": [
        {
          "output_type": "stream",
          "name": "stdout",
          "text": [
            "Epoch 1/10\n",
            "42/42 - 3s - loss: 0.6920 - accuracy: 0.4978 - val_loss: 0.6853 - val_accuracy: 0.5136 - 3s/epoch - 79ms/step\n",
            "Epoch 2/10\n",
            "42/42 - 1s - loss: 0.6802 - accuracy: 0.5530 - val_loss: 0.6599 - val_accuracy: 0.5864 - 553ms/epoch - 13ms/step\n",
            "Epoch 3/10\n",
            "42/42 - 1s - loss: 0.5655 - accuracy: 0.7440 - val_loss: 0.4481 - val_accuracy: 0.9424 - 541ms/epoch - 13ms/step\n",
            "Epoch 4/10\n",
            "42/42 - 1s - loss: 0.2283 - accuracy: 0.9343 - val_loss: 0.1207 - val_accuracy: 0.9636 - 558ms/epoch - 13ms/step\n",
            "Epoch 5/10\n",
            "42/42 - 1s - loss: 0.1557 - accuracy: 0.9537 - val_loss: 0.0611 - val_accuracy: 0.9773 - 568ms/epoch - 14ms/step\n",
            "Epoch 6/10\n",
            "42/42 - 1s - loss: 0.2793 - accuracy: 0.9209 - val_loss: 0.1732 - val_accuracy: 0.9864 - 554ms/epoch - 13ms/step\n",
            "Epoch 7/10\n",
            "42/42 - 1s - loss: 0.1104 - accuracy: 0.9821 - val_loss: 0.0267 - val_accuracy: 0.9939 - 565ms/epoch - 13ms/step\n",
            "Epoch 8/10\n",
            "42/42 - 1s - loss: 0.0876 - accuracy: 0.9679 - val_loss: 0.0362 - val_accuracy: 0.9909 - 543ms/epoch - 13ms/step\n",
            "Epoch 9/10\n",
            "42/42 - 1s - loss: 0.1232 - accuracy: 0.9664 - val_loss: 0.1106 - val_accuracy: 0.9606 - 563ms/epoch - 13ms/step\n",
            "Epoch 10/10\n",
            "42/42 - 1s - loss: 0.0885 - accuracy: 0.9776 - val_loss: 0.0300 - val_accuracy: 0.9894 - 555ms/epoch - 13ms/step\n"
          ]
        }
      ]
    },
    {
      "cell_type": "code",
      "source": [
        "print(history.history.keys())\n",
        "# summarize history for accuracy\n",
        "plt.plot(history.history['accuracy'])\n",
        "plt.plot(history.history['val_accuracy'])\n",
        "plt.title('model accuracy')\n",
        "plt.ylabel('accuracy')\n",
        "plt.xlabel('epoch')\n",
        "plt.legend(['train', 'test'], loc='lower right')\n",
        "plt.show()"
      ],
      "metadata": {
        "colab": {
          "base_uri": "https://localhost:8080/",
          "height": 312
        },
        "id": "8kMyo8Dk8TQJ",
        "outputId": "f0ab2603-6e43-4b75-89e5-acf70f7b1853"
      },
      "execution_count": 27,
      "outputs": [
        {
          "output_type": "stream",
          "name": "stdout",
          "text": [
            "dict_keys(['loss', 'accuracy', 'val_loss', 'val_accuracy'])\n"
          ]
        },
        {
          "output_type": "display_data",
          "data": {
            "text/plain": [
              "<Figure size 432x288 with 1 Axes>"
            ],
            "image/png": "[encoded data removed]"
          },
          "metadata": {
            "needs_background": "light"
          }
        }
      ]
    },
    {
      "cell_type": "code",
      "source": [
        "plt.plot(history.history['loss'], label='train')\n",
        "plt.plot(history.history['val_loss'], label='test')\n",
        "plt.title('model loss')\n",
        "plt.legend()\n",
        "plt.xlabel('Epochs')\n",
        "plt.ylabel('Loss')\n",
        "plt.show()"
      ],
      "metadata": {
        "colab": {
          "base_uri": "https://localhost:8080/",
          "height": 295
        },
        "id": "MzpJoMvT8utI",
        "outputId": "12a542cf-5e08-4000-b97a-f82a5b674ead"
      },
      "execution_count": 28,
      "outputs": [
        {
          "output_type": "display_data",
          "data": {
            "text/plain": [
              "<Figure size 432x288 with 1 Axes>"
            ],
            "image/png": "[encoded data removed]"
          },
          "metadata": {
            "needs_background": "light"
          }
        }
      ]
    },
    {
      "cell_type": "code",
      "source": [
        "#predict the labels for test data\n",
        "predictions = model.predict(X_test)\n"
      ],
      "metadata": {
        "id": "IvN4oe_2yA3B",
        "colab": {
          "base_uri": "https://localhost:8080/"
        },
        "outputId": "e25a93e0-563d-46f0-cdfa-cea121ac8f78"
      },
      "execution_count": 29,
      "outputs": [
        {
          "output_type": "stream",
          "name": "stdout",
          "text": [
            "21/21 [==============================] - 0s 5ms/step\n"
          ]
        }
      ]
    },
    {
      "cell_type": "code",
      "source": [
        "predicted_labels=[]\n",
        "\n",
        "for i in predictions:\n",
        "  if i<0.1:\n",
        "    predicted_labels.append(0)\n",
        "  else:\n",
        "    predicted_labels.append(1)\n",
        "\n",
        "\n",
        "#generate accuracy score\n",
        "accuracy_of_model = accuracy_score(Y_test, predicted_labels)\n",
        "\n",
        "#generate classification report\n",
        "report = classification_report(Y_test, predicted_labels)\n",
        "\n",
        "#generate the confusion matrix\n",
        "conf_matrix = confusion_matrix(Y_test, predicted_labels)\n",
        "\n",
        "#set heatmap and color scheme for confusion matrix\n",
        "sns.heatmap(conf_matrix, annot = True, fmt = 'g', cbar = False, cmap = 'viridis')\n",
        "\n",
        "plt.xlabel('Predicted Values')\n",
        "plt.ylabel('Actual Values')\n",
        "plt.title('Confusion Matrix')\n",
        "plt.show()\n",
        "\n",
        "print(f'Accuracy Score:', '{:.2%}'.format(accuracy_of_model))\n",
        "print(' ')\n",
        "print(report)"
      ],
      "metadata": {
        "colab": {
          "base_uri": "https://localhost:8080/",
          "height": 486
        },
        "id": "-ImQVbHs54S2",
        "outputId": "0e7831f1-588e-4e91-a2f1-05d37f0c4183"
      },
      "execution_count": 30,
      "outputs": [
        {
          "output_type": "display_data",
          "data": {
            "text/plain": [
              "<Figure size 432x288 with 1 Axes>"
            ],
            "image/png": "[encoded data removed]"
          },
          "metadata": {
            "needs_background": "light"
          }
        },
        {
          "output_type": "stream",
          "name": "stdout",
          "text": [
            "Accuracy Score: 95.45%\n",
            " \n",
            "              precision    recall  f1-score   support\n",
            "\n",
            "           0       1.00      0.91      0.95       339\n",
            "           1       0.91      1.00      0.96       321\n",
            "\n",
            "    accuracy                           0.95       660\n",
            "   macro avg       0.96      0.96      0.95       660\n",
            "weighted avg       0.96      0.95      0.95       660\n",
            "\n"
          ]
        }
      ]
    },
    {
      "cell_type": "code",
      "source": [
        "print(predicted_labels[100:200])\n",
        "print(Y_test[100:200])"
      ],
      "metadata": {
        "colab": {
          "base_uri": "https://localhost:8080/"
        },
        "id": "UO-09PtvrWh8",
        "outputId": "238363a5-9bc9-451a-d42e-de3bbcca4c7e"
      },
      "execution_count": 31,
      "outputs": [
        {
          "output_type": "stream",
          "name": "stdout",
          "text": [
            "[1, 0, 1, 1, 0, 1, 0, 0, 0, 0, 1, 1, 1, 0, 1, 1, 0, 1, 0, 0, 0, 0, 1, 1, 0, 0, 1, 0, 0, 1, 1, 1, 1, 1, 0, 1, 0, 0, 1, 1, 0, 1, 0, 1, 0, 0, 0, 1, 1, 0, 1, 1, 1, 0, 1, 0, 0, 0, 1, 0, 0, 0, 1, 0, 1, 0, 1, 1, 1, 1, 1, 0, 1, 1, 1, 1, 1, 1, 1, 0, 0, 0, 1, 0, 1, 1, 1, 0, 0, 1, 0, 0, 0, 0, 0, 1, 1, 1, 1, 1]\n",
            "[1, 0, 1, 1, 0, 1, 0, 0, 0, 0, 1, 1, 1, 0, 1, 0, 0, 1, 0, 0, 0, 0, 1, 1, 0, 0, 1, 0, 0, 1, 1, 1, 1, 1, 0, 1, 0, 0, 1, 0, 0, 1, 0, 1, 0, 0, 0, 1, 1, 0, 1, 1, 1, 0, 1, 0, 0, 0, 1, 0, 0, 0, 1, 0, 1, 0, 1, 1, 1, 1, 1, 0, 1, 1, 1, 1, 1, 1, 1, 0, 0, 0, 1, 0, 0, 1, 1, 0, 0, 1, 0, 0, 0, 0, 0, 1, 1, 1, 1, 1]\n"
          ]
        }
      ]
    },
    {
      "cell_type": "code",
      "source": [
        "auc = roc_auc_score(Y_test, predicted_labels)\n",
        "print(auc)"
      ],
      "metadata": {
        "colab": {
          "base_uri": "https://localhost:8080/"
        },
        "id": "ZmZXom5QXttB",
        "outputId": "e8d98296-4465-48f9-a4ba-c61a2e3cdf19"
      },
      "execution_count": 32,
      "outputs": [
        {
          "output_type": "stream",
          "name": "stdout",
          "text": [
            "0.9557522123893805\n"
          ]
        }
      ]
    },
    {
      "cell_type": "code",
      "source": [
        "false_postive_rate, true_positive_rate, _ = roc_curve(Y_test, predicted_labels)"
      ],
      "metadata": {
        "id": "Q0c5zAbhX-of"
      },
      "execution_count": 33,
      "outputs": []
    },
    {
      "cell_type": "code",
      "source": [
        "plt.plot(false_postive_rate, true_positive_rate)\n",
        "# axis labels\n",
        "plt.xlabel('False Positive Rate')\n",
        "plt.ylabel('True Positive Rate')\n",
        "\n",
        "print('ROC AUC score',auc)\n",
        "# show the plot\n",
        "plt.show()"
      ],
      "metadata": {
        "colab": {
          "base_uri": "https://localhost:8080/",
          "height": 296
        },
        "id": "iGDLxUMzYMR0",
        "outputId": "21ce9360-d13c-4c6e-f544-01233c7f4906"
      },
      "execution_count": 34,
      "outputs": [
        {
          "output_type": "stream",
          "name": "stdout",
          "text": [
            "ROC AUC score 0.9557522123893805\n"
          ]
        },
        {
          "output_type": "display_data",
          "data": {
            "text/plain": [
              "<Figure size 432x288 with 1 Axes>"
            ],
            "image/png": "[encoded data removed]"
          },
          "metadata": {
            "needs_background": "light"
          }
        }
      ]
    }
  ]
}