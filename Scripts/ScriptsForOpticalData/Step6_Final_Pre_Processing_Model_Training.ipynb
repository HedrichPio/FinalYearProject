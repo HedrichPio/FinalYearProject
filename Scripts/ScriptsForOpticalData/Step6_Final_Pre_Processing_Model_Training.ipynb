{
  "nbformat": 4,
  "nbformat_minor": 0,
  "metadata": {
    "colab": {
      "provenance": []
    },
    "kernelspec": {
      "name": "python3",
      "display_name": "Python 3"
    },
    "language_info": {
      "name": "python"
    }
  },
  "cells": [
    {
      "cell_type": "code",
      "execution_count": 1,
      "metadata": {
        "colab": {
          "base_uri": "https://localhost:8080/"
        },
        "id": "Fa5_0fTlxGK5",
        "outputId": "ad0d1946-a91a-4415-acfc-fa5122df498e"
      },
      "outputs": [
        {
          "output_type": "stream",
          "name": "stdout",
          "text": [
            "Mounted at /content/drive\n"
          ]
        }
      ],
      "source": [
        "from google.colab import drive\n",
        "drive.mount('/content/drive')"
      ]
    },
    {
      "cell_type": "markdown",
      "source": [
        "\n",
        "**Importing Dependencies**"
      ],
      "metadata": {
        "id": "hDgjM3bnx9Mi"
      }
    },
    {
      "cell_type": "code",
      "source": [
        "import pandas as pd\n",
        "import numpy as np\n",
        "import csv\n",
        "import random"
      ],
      "metadata": {
        "id": "LMwdTn0sxpQp"
      },
      "execution_count": 2,
      "outputs": []
    },
    {
      "cell_type": "markdown",
      "source": [
        "**Assign Directory**"
      ],
      "metadata": {
        "id": "hN1BJUeOyTqq"
      }
    },
    {
      "cell_type": "code",
      "source": [
        "abandoned_ndvi = pd.read_csv('/content/drive/MyDrive/CSV_fyp/abandoned/ndvi_yala_abandoned_2022_dataset.csv')\n",
        "abandoned_lswi = pd.read_csv('/content/drive/MyDrive/CSV_fyp/abandoned/lswi_yala_abandoned_2022_dataset.csv')\n",
        "\n",
        "cultivated_ndvi = pd.read_csv('/content/drive/MyDrive/CSV_fyp/cultivated/ndvi_yala_cultivated_2022_dataset.csv')\n",
        "cultivated_lswi = pd.read_csv('/content/drive/MyDrive/CSV_fyp/cultivated/lswi_yala_cultivated_2022_dataset.csv')"
      ],
      "metadata": {
        "id": "aTnmmx_JxsK4"
      },
      "execution_count": 3,
      "outputs": []
    },
    {
      "cell_type": "markdown",
      "source": [
        "## **Pre-processing**\n",
        "\n"
      ],
      "metadata": {
        "id": "8_V5egL1yty5"
      }
    },
    {
      "cell_type": "code",
      "source": [
        "# drop the label columns in both dataframes\n",
        "# axis 1 to drop columns\n",
        "abandoned_ndvi_values = abandoned_ndvi.drop(['label'],axis=1)\n",
        "abandoned_lswi_values = abandoned_lswi.drop(['label'],axis=1)\n",
        "\n",
        "cultivated_ndvi_values = cultivated_ndvi.drop(['label'],axis=1)\n",
        "cultivated_lswi_values = cultivated_lswi.drop(['label'],axis=1)"
      ],
      "metadata": {
        "id": "tTe3VpiLxs9R"
      },
      "execution_count": 4,
      "outputs": []
    },
    {
      "cell_type": "code",
      "source": [
        "abandoned_ndvi_values.head()"
      ],
      "metadata": {
        "colab": {
          "base_uri": "https://localhost:8080/",
          "height": 206
        },
        "id": "WjejTvUDxyeQ",
        "outputId": "4b4d9759-5488-4a8f-ed21-5f9300a01e6f"
      },
      "execution_count": 6,
      "outputs": [
        {
          "output_type": "execute_result",
          "data": {
            "text/plain": [
              "   day0  day9  day18  day27  day36  day45  day54  day63  day72  day81  day90  \\\n",
              "0  0.63  0.65   0.70   0.68   0.68   0.69   0.69   0.70   0.69   0.61   0.58   \n",
              "1  0.63  0.66   0.71   0.69   0.69   0.70   0.70   0.71   0.70   0.60   0.58   \n",
              "2  0.60  0.67   0.72   0.68   0.68   0.69   0.69   0.70   0.69   0.59   0.58   \n",
              "3  0.59  0.67   0.72   0.67   0.67   0.68   0.68   0.71   0.70   0.59   0.56   \n",
              "4  0.59  0.66   0.70   0.67   0.67   0.67   0.67   0.70   0.70   0.59   0.55   \n",
              "\n",
              "   day99  day108  day117  day126  day135  day144  day153  day162  day171  \n",
              "0   0.53    0.61    0.65    0.68    0.64    0.59    0.57    0.56    0.56  \n",
              "1   0.53    0.61    0.65    0.67    0.64    0.59    0.57    0.56    0.55  \n",
              "2   0.54    0.64    0.64    0.66    0.64    0.59    0.57    0.56    0.54  \n",
              "3   0.54    0.64    0.65    0.67    0.63    0.59    0.57    0.55    0.53  \n",
              "4   0.54    0.63    0.65    0.66    0.61    0.59    0.58    0.56    0.53  "
            ],
            "text/html": [
              "\n",
              "  <div id=\"df-14d5d424-83d7-4ef7-8d76-57786679dbc0\">\n",
              "    <div class=\"colab-df-container\">\n",
              "      <div>\n",
              "<style scoped>\n",
              "    .dataframe tbody tr th:only-of-type {\n",
              "        vertical-align: middle;\n",
              "    }\n",
              "\n",
              "    .dataframe tbody tr th {\n",
              "        vertical-align: top;\n",
              "    }\n",
              "\n",
              "    .dataframe thead th {\n",
              "        text-align: right;\n",
              "    }\n",
              "</style>\n",
              "<table border=\"1\" class=\"dataframe\">\n",
              "  <thead>\n",
              "    <tr style=\"text-align: right;\">\n",
              "      <th></th>\n",
              "      <th>day0</th>\n",
              "      <th>day9</th>\n",
              "      <th>day18</th>\n",
              "      <th>day27</th>\n",
              "      <th>day36</th>\n",
              "      <th>day45</th>\n",
              "      <th>day54</th>\n",
              "      <th>day63</th>\n",
              "      <th>day72</th>\n",
              "      <th>day81</th>\n",
              "      <th>day90</th>\n",
              "      <th>day99</th>\n",
              "      <th>day108</th>\n",
              "      <th>day117</th>\n",
              "      <th>day126</th>\n",
              "      <th>day135</th>\n",
              "      <th>day144</th>\n",
              "      <th>day153</th>\n",
              "      <th>day162</th>\n",
              "      <th>day171</th>\n",
              "    </tr>\n",
              "  </thead>\n",
              "  <tbody>\n",
              "    <tr>\n",
              "      <th>0</th>\n",
              "      <td>0.63</td>\n",
              "      <td>0.65</td>\n",
              "      <td>0.70</td>\n",
              "      <td>0.68</td>\n",
              "      <td>0.68</td>\n",
              "      <td>0.69</td>\n",
              "      <td>0.69</td>\n",
              "      <td>0.70</td>\n",
              "      <td>0.69</td>\n",
              "      <td>0.61</td>\n",
              "      <td>0.58</td>\n",
              "      <td>0.53</td>\n",
              "      <td>0.61</td>\n",
              "      <td>0.65</td>\n",
              "      <td>0.68</td>\n",
              "      <td>0.64</td>\n",
              "      <td>0.59</td>\n",
              "      <td>0.57</td>\n",
              "      <td>0.56</td>\n",
              "      <td>0.56</td>\n",
              "    </tr>\n",
              "    <tr>\n",
              "      <th>1</th>\n",
              "      <td>0.63</td>\n",
              "      <td>0.66</td>\n",
              "      <td>0.71</td>\n",
              "      <td>0.69</td>\n",
              "      <td>0.69</td>\n",
              "      <td>0.70</td>\n",
              "      <td>0.70</td>\n",
              "      <td>0.71</td>\n",
              "      <td>0.70</td>\n",
              "      <td>0.60</td>\n",
              "      <td>0.58</td>\n",
              "      <td>0.53</td>\n",
              "      <td>0.61</td>\n",
              "      <td>0.65</td>\n",
              "      <td>0.67</td>\n",
              "      <td>0.64</td>\n",
              "      <td>0.59</td>\n",
              "      <td>0.57</td>\n",
              "      <td>0.56</td>\n",
              "      <td>0.55</td>\n",
              "    </tr>\n",
              "    <tr>\n",
              "      <th>2</th>\n",
              "      <td>0.60</td>\n",
              "      <td>0.67</td>\n",
              "      <td>0.72</td>\n",
              "      <td>0.68</td>\n",
              "      <td>0.68</td>\n",
              "      <td>0.69</td>\n",
              "      <td>0.69</td>\n",
              "      <td>0.70</td>\n",
              "      <td>0.69</td>\n",
              "      <td>0.59</td>\n",
              "      <td>0.58</td>\n",
              "      <td>0.54</td>\n",
              "      <td>0.64</td>\n",
              "      <td>0.64</td>\n",
              "      <td>0.66</td>\n",
              "      <td>0.64</td>\n",
              "      <td>0.59</td>\n",
              "      <td>0.57</td>\n",
              "      <td>0.56</td>\n",
              "      <td>0.54</td>\n",
              "    </tr>\n",
              "    <tr>\n",
              "      <th>3</th>\n",
              "      <td>0.59</td>\n",
              "      <td>0.67</td>\n",
              "      <td>0.72</td>\n",
              "      <td>0.67</td>\n",
              "      <td>0.67</td>\n",
              "      <td>0.68</td>\n",
              "      <td>0.68</td>\n",
              "      <td>0.71</td>\n",
              "      <td>0.70</td>\n",
              "      <td>0.59</td>\n",
              "      <td>0.56</td>\n",
              "      <td>0.54</td>\n",
              "      <td>0.64</td>\n",
              "      <td>0.65</td>\n",
              "      <td>0.67</td>\n",
              "      <td>0.63</td>\n",
              "      <td>0.59</td>\n",
              "      <td>0.57</td>\n",
              "      <td>0.55</td>\n",
              "      <td>0.53</td>\n",
              "    </tr>\n",
              "    <tr>\n",
              "      <th>4</th>\n",
              "      <td>0.59</td>\n",
              "      <td>0.66</td>\n",
              "      <td>0.70</td>\n",
              "      <td>0.67</td>\n",
              "      <td>0.67</td>\n",
              "      <td>0.67</td>\n",
              "      <td>0.67</td>\n",
              "      <td>0.70</td>\n",
              "      <td>0.70</td>\n",
              "      <td>0.59</td>\n",
              "      <td>0.55</td>\n",
              "      <td>0.54</td>\n",
              "      <td>0.63</td>\n",
              "      <td>0.65</td>\n",
              "      <td>0.66</td>\n",
              "      <td>0.61</td>\n",
              "      <td>0.59</td>\n",
              "      <td>0.58</td>\n",
              "      <td>0.56</td>\n",
              "      <td>0.53</td>\n",
              "    </tr>\n",
              "  </tbody>\n",
              "</table>\n",
              "</div>\n",
              "      <button class=\"colab-df-convert\" onclick=\"convertToInteractive('df-14d5d424-83d7-4ef7-8d76-57786679dbc0')\"\n",
              "              title=\"Convert this dataframe to an interactive table.\"\n",
              "              style=\"display:none;\">\n",
              "        \n",
              "  <svg xmlns=\"http://www.w3.org/2000/svg\" height=\"24px\"viewBox=\"0 0 24 24\"\n",
              "       width=\"24px\">\n",
              "    <path d=\"M0 0h24v24H0V0z\" fill=\"none\"/>\n",
              "    <path d=\"M18.56 5.44l.94 2.06.94-2.06 2.06-.94-2.06-.94-.94-2.06-.94 2.06-2.06.94zm-11 1L8.5 8.5l.94-2.06 2.06-.94-2.06-.94L8.5 2.5l-.94 2.06-2.06.94zm10 10l.94 2.06.94-2.06 2.06-.94-2.06-.94-.94-2.06-.94 2.06-2.06.94z\"/><path d=\"M17.41 7.96l-1.37-1.37c-.4-.4-.92-.59-1.43-.59-.52 0-1.04.2-1.43.59L10.3 9.45l-7.72 7.72c-.78.78-.78 2.05 0 2.83L4 21.41c.39.39.9.59 1.41.59.51 0 1.02-.2 1.41-.59l7.78-7.78 2.81-2.81c.8-.78.8-2.07 0-2.86zM5.41 20L4 18.59l7.72-7.72 1.47 1.35L5.41 20z\"/>\n",
              "  </svg>\n",
              "      </button>\n",
              "      \n",
              "  <style>\n",
              "    .colab-df-container {\n",
              "      display:flex;\n",
              "      flex-wrap:wrap;\n",
              "      gap: 12px;\n",
              "    }\n",
              "\n",
              "    .colab-df-convert {\n",
              "      background-color: #E8F0FE;\n",
              "      border: none;\n",
              "      border-radius: 50%;\n",
              "      cursor: pointer;\n",
              "      display: none;\n",
              "      fill: #1967D2;\n",
              "      height: 32px;\n",
              "      padding: 0 0 0 0;\n",
              "      width: 32px;\n",
              "    }\n",
              "\n",
              "    .colab-df-convert:hover {\n",
              "      background-color: #E2EBFA;\n",
              "      box-shadow: 0px 1px 2px rgba(60, 64, 67, 0.3), 0px 1px 3px 1px rgba(60, 64, 67, 0.15);\n",
              "      fill: #174EA6;\n",
              "    }\n",
              "\n",
              "    [theme=dark] .colab-df-convert {\n",
              "      background-color: #3B4455;\n",
              "      fill: #D2E3FC;\n",
              "    }\n",
              "\n",
              "    [theme=dark] .colab-df-convert:hover {\n",
              "      background-color: #434B5C;\n",
              "      box-shadow: 0px 1px 3px 1px rgba(0, 0, 0, 0.15);\n",
              "      filter: drop-shadow(0px 1px 2px rgba(0, 0, 0, 0.3));\n",
              "      fill: #FFFFFF;\n",
              "    }\n",
              "  </style>\n",
              "\n",
              "      <script>\n",
              "        const buttonEl =\n",
              "          document.querySelector('#df-14d5d424-83d7-4ef7-8d76-57786679dbc0 button.colab-df-convert');\n",
              "        buttonEl.style.display =\n",
              "          google.colab.kernel.accessAllowed ? 'block' : 'none';\n",
              "\n",
              "        async function convertToInteractive(key) {\n",
              "          const element = document.querySelector('#df-14d5d424-83d7-4ef7-8d76-57786679dbc0');\n",
              "          const dataTable =\n",
              "            await google.colab.kernel.invokeFunction('convertToInteractive',\n",
              "                                                     [key], {});\n",
              "          if (!dataTable) return;\n",
              "\n",
              "          const docLinkHtml = 'Like what you see? Visit the ' +\n",
              "            '<a target=\"_blank\" href=https://colab.research.google.com/notebooks/data_table.ipynb>data table notebook</a>'\n",
              "            + ' to learn more about interactive tables.';\n",
              "          element.innerHTML = '';\n",
              "          dataTable['output_type'] = 'display_data';\n",
              "          await google.colab.output.renderOutput(dataTable, element);\n",
              "          const docLink = document.createElement('div');\n",
              "          docLink.innerHTML = docLinkHtml;\n",
              "          element.appendChild(docLink);\n",
              "        }\n",
              "      </script>\n",
              "    </div>\n",
              "  </div>\n",
              "  "
            ]
          },
          "metadata": {},
          "execution_count": 6
        }
      ]
    },
    {
      "cell_type": "code",
      "source": [
        "abandoned_lswi_values.head()"
      ],
      "metadata": {
        "colab": {
          "base_uri": "https://localhost:8080/",
          "height": 206
        },
        "id": "k1bpECzPx0y4",
        "outputId": "64e936e1-64c7-4f16-bf86-75d6f5411856"
      },
      "execution_count": 7,
      "outputs": [
        {
          "output_type": "execute_result",
          "data": {
            "text/plain": [
              "   day0  day8  day17  day26  day34  day43  day52  day60  day69  day78  day86  \\\n",
              "0  0.34  0.35   0.35   0.35   0.36   0.33   0.31   0.28   0.26   0.24   0.22   \n",
              "1  0.34  0.35   0.35   0.35   0.36   0.33   0.31   0.28   0.26   0.24   0.22   \n",
              "2  0.34  0.35   0.35   0.35   0.36   0.33   0.31   0.28   0.26   0.24   0.22   \n",
              "3  0.34  0.35   0.35   0.35   0.36   0.33   0.31   0.28   0.26   0.24   0.22   \n",
              "4  0.34  0.35   0.35   0.35   0.36   0.33   0.31   0.28   0.26   0.23   0.22   \n",
              "\n",
              "   day95  day104  day112  day121  day130  day138  day147  day156  day165  \n",
              "0   0.21    0.24    0.27    0.30     0.3    0.28    0.26    0.24    0.14  \n",
              "1   0.21    0.24    0.27    0.30     0.3    0.28    0.26    0.24    0.14  \n",
              "2   0.21    0.24    0.27    0.30     0.3    0.28    0.26    0.24    0.14  \n",
              "3   0.21    0.24    0.26    0.29     0.3    0.28    0.26    0.24    0.14  \n",
              "4   0.20    0.23    0.26    0.29     0.3    0.28    0.26    0.24    0.13  "
            ],
            "text/html": [
              "\n",
              "  <div id=\"df-68ba5901-f6ac-4612-878b-c249ffdabf98\">\n",
              "    <div class=\"colab-df-container\">\n",
              "      <div>\n",
              "<style scoped>\n",
              "    .dataframe tbody tr th:only-of-type {\n",
              "        vertical-align: middle;\n",
              "    }\n",
              "\n",
              "    .dataframe tbody tr th {\n",
              "        vertical-align: top;\n",
              "    }\n",
              "\n",
              "    .dataframe thead th {\n",
              "        text-align: right;\n",
              "    }\n",
              "</style>\n",
              "<table border=\"1\" class=\"dataframe\">\n",
              "  <thead>\n",
              "    <tr style=\"text-align: right;\">\n",
              "      <th></th>\n",
              "      <th>day0</th>\n",
              "      <th>day8</th>\n",
              "      <th>day17</th>\n",
              "      <th>day26</th>\n",
              "      <th>day34</th>\n",
              "      <th>day43</th>\n",
              "      <th>day52</th>\n",
              "      <th>day60</th>\n",
              "      <th>day69</th>\n",
              "      <th>day78</th>\n",
              "      <th>day86</th>\n",
              "      <th>day95</th>\n",
              "      <th>day104</th>\n",
              "      <th>day112</th>\n",
              "      <th>day121</th>\n",
              "      <th>day130</th>\n",
              "      <th>day138</th>\n",
              "      <th>day147</th>\n",
              "      <th>day156</th>\n",
              "      <th>day165</th>\n",
              "    </tr>\n",
              "  </thead>\n",
              "  <tbody>\n",
              "    <tr>\n",
              "      <th>0</th>\n",
              "      <td>0.34</td>\n",
              "      <td>0.35</td>\n",
              "      <td>0.35</td>\n",
              "      <td>0.35</td>\n",
              "      <td>0.36</td>\n",
              "      <td>0.33</td>\n",
              "      <td>0.31</td>\n",
              "      <td>0.28</td>\n",
              "      <td>0.26</td>\n",
              "      <td>0.24</td>\n",
              "      <td>0.22</td>\n",
              "      <td>0.21</td>\n",
              "      <td>0.24</td>\n",
              "      <td>0.27</td>\n",
              "      <td>0.30</td>\n",
              "      <td>0.3</td>\n",
              "      <td>0.28</td>\n",
              "      <td>0.26</td>\n",
              "      <td>0.24</td>\n",
              "      <td>0.14</td>\n",
              "    </tr>\n",
              "    <tr>\n",
              "      <th>1</th>\n",
              "      <td>0.34</td>\n",
              "      <td>0.35</td>\n",
              "      <td>0.35</td>\n",
              "      <td>0.35</td>\n",
              "      <td>0.36</td>\n",
              "      <td>0.33</td>\n",
              "      <td>0.31</td>\n",
              "      <td>0.28</td>\n",
              "      <td>0.26</td>\n",
              "      <td>0.24</td>\n",
              "      <td>0.22</td>\n",
              "      <td>0.21</td>\n",
              "      <td>0.24</td>\n",
              "      <td>0.27</td>\n",
              "      <td>0.30</td>\n",
              "      <td>0.3</td>\n",
              "      <td>0.28</td>\n",
              "      <td>0.26</td>\n",
              "      <td>0.24</td>\n",
              "      <td>0.14</td>\n",
              "    </tr>\n",
              "    <tr>\n",
              "      <th>2</th>\n",
              "      <td>0.34</td>\n",
              "      <td>0.35</td>\n",
              "      <td>0.35</td>\n",
              "      <td>0.35</td>\n",
              "      <td>0.36</td>\n",
              "      <td>0.33</td>\n",
              "      <td>0.31</td>\n",
              "      <td>0.28</td>\n",
              "      <td>0.26</td>\n",
              "      <td>0.24</td>\n",
              "      <td>0.22</td>\n",
              "      <td>0.21</td>\n",
              "      <td>0.24</td>\n",
              "      <td>0.27</td>\n",
              "      <td>0.30</td>\n",
              "      <td>0.3</td>\n",
              "      <td>0.28</td>\n",
              "      <td>0.26</td>\n",
              "      <td>0.24</td>\n",
              "      <td>0.14</td>\n",
              "    </tr>\n",
              "    <tr>\n",
              "      <th>3</th>\n",
              "      <td>0.34</td>\n",
              "      <td>0.35</td>\n",
              "      <td>0.35</td>\n",
              "      <td>0.35</td>\n",
              "      <td>0.36</td>\n",
              "      <td>0.33</td>\n",
              "      <td>0.31</td>\n",
              "      <td>0.28</td>\n",
              "      <td>0.26</td>\n",
              "      <td>0.24</td>\n",
              "      <td>0.22</td>\n",
              "      <td>0.21</td>\n",
              "      <td>0.24</td>\n",
              "      <td>0.26</td>\n",
              "      <td>0.29</td>\n",
              "      <td>0.3</td>\n",
              "      <td>0.28</td>\n",
              "      <td>0.26</td>\n",
              "      <td>0.24</td>\n",
              "      <td>0.14</td>\n",
              "    </tr>\n",
              "    <tr>\n",
              "      <th>4</th>\n",
              "      <td>0.34</td>\n",
              "      <td>0.35</td>\n",
              "      <td>0.35</td>\n",
              "      <td>0.35</td>\n",
              "      <td>0.36</td>\n",
              "      <td>0.33</td>\n",
              "      <td>0.31</td>\n",
              "      <td>0.28</td>\n",
              "      <td>0.26</td>\n",
              "      <td>0.23</td>\n",
              "      <td>0.22</td>\n",
              "      <td>0.20</td>\n",
              "      <td>0.23</td>\n",
              "      <td>0.26</td>\n",
              "      <td>0.29</td>\n",
              "      <td>0.3</td>\n",
              "      <td>0.28</td>\n",
              "      <td>0.26</td>\n",
              "      <td>0.24</td>\n",
              "      <td>0.13</td>\n",
              "    </tr>\n",
              "  </tbody>\n",
              "</table>\n",
              "</div>\n",
              "      <button class=\"colab-df-convert\" onclick=\"convertToInteractive('df-68ba5901-f6ac-4612-878b-c249ffdabf98')\"\n",
              "              title=\"Convert this dataframe to an interactive table.\"\n",
              "              style=\"display:none;\">\n",
              "        \n",
              "  <svg xmlns=\"http://www.w3.org/2000/svg\" height=\"24px\"viewBox=\"0 0 24 24\"\n",
              "       width=\"24px\">\n",
              "    <path d=\"M0 0h24v24H0V0z\" fill=\"none\"/>\n",
              "    <path d=\"M18.56 5.44l.94 2.06.94-2.06 2.06-.94-2.06-.94-.94-2.06-.94 2.06-2.06.94zm-11 1L8.5 8.5l.94-2.06 2.06-.94-2.06-.94L8.5 2.5l-.94 2.06-2.06.94zm10 10l.94 2.06.94-2.06 2.06-.94-2.06-.94-.94-2.06-.94 2.06-2.06.94z\"/><path d=\"M17.41 7.96l-1.37-1.37c-.4-.4-.92-.59-1.43-.59-.52 0-1.04.2-1.43.59L10.3 9.45l-7.72 7.72c-.78.78-.78 2.05 0 2.83L4 21.41c.39.39.9.59 1.41.59.51 0 1.02-.2 1.41-.59l7.78-7.78 2.81-2.81c.8-.78.8-2.07 0-2.86zM5.41 20L4 18.59l7.72-7.72 1.47 1.35L5.41 20z\"/>\n",
              "  </svg>\n",
              "      </button>\n",
              "      \n",
              "  <style>\n",
              "    .colab-df-container {\n",
              "      display:flex;\n",
              "      flex-wrap:wrap;\n",
              "      gap: 12px;\n",
              "    }\n",
              "\n",
              "    .colab-df-convert {\n",
              "      background-color: #E8F0FE;\n",
              "      border: none;\n",
              "      border-radius: 50%;\n",
              "      cursor: pointer;\n",
              "      display: none;\n",
              "      fill: #1967D2;\n",
              "      height: 32px;\n",
              "      padding: 0 0 0 0;\n",
              "      width: 32px;\n",
              "    }\n",
              "\n",
              "    .colab-df-convert:hover {\n",
              "      background-color: #E2EBFA;\n",
              "      box-shadow: 0px 1px 2px rgba(60, 64, 67, 0.3), 0px 1px 3px 1px rgba(60, 64, 67, 0.15);\n",
              "      fill: #174EA6;\n",
              "    }\n",
              "\n",
              "    [theme=dark] .colab-df-convert {\n",
              "      background-color: #3B4455;\n",
              "      fill: #D2E3FC;\n",
              "    }\n",
              "\n",
              "    [theme=dark] .colab-df-convert:hover {\n",
              "      background-color: #434B5C;\n",
              "      box-shadow: 0px 1px 3px 1px rgba(0, 0, 0, 0.15);\n",
              "      filter: drop-shadow(0px 1px 2px rgba(0, 0, 0, 0.3));\n",
              "      fill: #FFFFFF;\n",
              "    }\n",
              "  </style>\n",
              "\n",
              "      <script>\n",
              "        const buttonEl =\n",
              "          document.querySelector('#df-68ba5901-f6ac-4612-878b-c249ffdabf98 button.colab-df-convert');\n",
              "        buttonEl.style.display =\n",
              "          google.colab.kernel.accessAllowed ? 'block' : 'none';\n",
              "\n",
              "        async function convertToInteractive(key) {\n",
              "          const element = document.querySelector('#df-68ba5901-f6ac-4612-878b-c249ffdabf98');\n",
              "          const dataTable =\n",
              "            await google.colab.kernel.invokeFunction('convertToInteractive',\n",
              "                                                     [key], {});\n",
              "          if (!dataTable) return;\n",
              "\n",
              "          const docLinkHtml = 'Like what you see? Visit the ' +\n",
              "            '<a target=\"_blank\" href=https://colab.research.google.com/notebooks/data_table.ipynb>data table notebook</a>'\n",
              "            + ' to learn more about interactive tables.';\n",
              "          element.innerHTML = '';\n",
              "          dataTable['output_type'] = 'display_data';\n",
              "          await google.colab.output.renderOutput(dataTable, element);\n",
              "          const docLink = document.createElement('div');\n",
              "          docLink.innerHTML = docLinkHtml;\n",
              "          element.appendChild(docLink);\n",
              "        }\n",
              "      </script>\n",
              "    </div>\n",
              "  </div>\n",
              "  "
            ]
          },
          "metadata": {},
          "execution_count": 7
        }
      ]
    },
    {
      "cell_type": "code",
      "source": [
        "# dataframe with only column to np array\n",
        "abandoned_ndvi_array = np.array(abandoned_ndvi_values)\n",
        "abandoned_lswi_array = np.array(abandoned_lswi_values)\n",
        "\n",
        "cultivated_ndvi_array = np.array(cultivated_ndvi_values)\n",
        "cultivated_lswi_array = np.array(cultivated_lswi_values)"
      ],
      "metadata": {
        "id": "yoAvGBQXx25o"
      },
      "execution_count": 8,
      "outputs": []
    },
    {
      "cell_type": "code",
      "source": [
        "print('ab ndvi -',len(abandoned_ndvi_array))\n",
        "print('ab lstw -',len(abandoned_lswi_array))\n",
        "print('cu ndvi -',len(cultivated_ndvi_array))\n",
        "print('cu lstw -',len(cultivated_lswi_array))"
      ],
      "metadata": {
        "colab": {
          "base_uri": "https://localhost:8080/"
        },
        "id": "ppYCzQipx62y",
        "outputId": "5927a604-7691-4e7e-ed42-08f400d08e40"
      },
      "execution_count": 9,
      "outputs": [
        {
          "output_type": "stream",
          "name": "stdout",
          "text": [
            "ab ndvi - 4758\n",
            "ab lstw - 4800\n",
            "cu ndvi - 12008\n",
            "cu lstw - 11680\n"
          ]
        }
      ]
    },
    {
      "cell_type": "code",
      "source": [
        "number_of_rows_abandoned = len(abandoned_ndvi_array) if len(abandoned_ndvi_array) <= len(abandoned_lswi_array) else len(abandoned_lswi_array)\n",
        "number_of_rows_cultivated = len(cultivated_ndvi_array) if len(cultivated_ndvi_array) <= len(cultivated_lswi_array) else len(cultivated_lswi_array)\n",
        "\n",
        "print('ab',number_of_rows_abandoned)\n",
        "print('cu',number_of_rows_cultivated)"
      ],
      "metadata": {
        "colab": {
          "base_uri": "https://localhost:8080/"
        },
        "id": "WpL44gze0Un2",
        "outputId": "3b88cabb-1092-47f0-d8b0-1b3401502e93"
      },
      "execution_count": 10,
      "outputs": [
        {
          "output_type": "stream",
          "name": "stdout",
          "text": [
            "ab 4758\n",
            "cu 11680\n"
          ]
        }
      ]
    },
    {
      "cell_type": "markdown",
      "source": [
        "### **Re-arranging data as [NDVI,LSWI] pairs**"
      ],
      "metadata": {
        "id": "2gg7aD9d0aMG"
      }
    },
    {
      "cell_type": "markdown",
      "source": [
        "#### **Abandoned Paddy Lands**"
      ],
      "metadata": {
        "id": "VY82Lwd20sDt"
      }
    },
    {
      "cell_type": "code",
      "source": [
        "abandoned_ndvi_lswi_all_pixels=[]\n",
        "\n",
        "for i in range(number_of_rows_abandoned):\n",
        "\n",
        "  abandoned_ndvi_lswi_single_pixel=[]\n",
        "\n",
        "  for j in range(len(abandoned_ndvi_array[i])):\n",
        "\n",
        "    ndvi_lswi_per_day=[abandoned_ndvi_array[i][j],abandoned_lswi_array[i][j]]\n",
        "\n",
        "    abandoned_ndvi_lswi_single_pixel.append(ndvi_lswi_per_day)\n",
        "\n",
        "  abandoned_ndvi_lswi_all_pixels.append(abandoned_ndvi_lswi_single_pixel)"
      ],
      "metadata": {
        "id": "Vt6g95Tt0ZhJ"
      },
      "execution_count": 11,
      "outputs": []
    },
    {
      "cell_type": "markdown",
      "source": [
        "#### **Cultivated Paddy Lands**"
      ],
      "metadata": {
        "id": "mRfZHzJL018i"
      }
    },
    {
      "cell_type": "code",
      "source": [
        "cultivated_ndvi_lswi_all_pixels=[]\n",
        "\n",
        "for i in range(number_of_rows_cultivated):\n",
        "\n",
        "  cultivated_ndvi_lswi_single_pixel=[]\n",
        "\n",
        "  for j in range(len(cultivated_ndvi_array[i])):\n",
        "\n",
        "    ndvi_lswi_per_day=[cultivated_ndvi_array[i][j],cultivated_lswi_array[i][j]]\n",
        "\n",
        "    cultivated_ndvi_lswi_single_pixel.append(ndvi_lswi_per_day)\n",
        "\n",
        "  cultivated_ndvi_lswi_all_pixels.append(cultivated_ndvi_lswi_single_pixel)"
      ],
      "metadata": {
        "id": "FRAGjw2k1Q3V"
      },
      "execution_count": 12,
      "outputs": []
    },
    {
      "cell_type": "markdown",
      "source": [
        "### **Randomising Data**"
      ],
      "metadata": {
        "id": "HD_2kftp1qWP"
      }
    },
    {
      "cell_type": "markdown",
      "source": [
        "**Function to generate Random Indices**"
      ],
      "metadata": {
        "id": "zPyUtEoY12ww"
      }
    },
    {
      "cell_type": "code",
      "source": [
        "def generate_random_indices(number_of_rows):\n",
        "  number_of_samples = 1000\n",
        "\n",
        "  # array with 1000 random indices from 0 to length of data array\n",
        "  random_indices = []\n",
        "\n",
        "  while len(random_indices)<number_of_samples:\n",
        "\n",
        "    # generating random number\n",
        "    rand = random.randint(0,number_of_rows-1)\n",
        "\n",
        "    # if generated number is not in the indices array then add to indices array\n",
        "    if rand in random_indices:\n",
        "      pass\n",
        "    else:\n",
        "      random_indices.append(rand)\n",
        "\n",
        "  return random_indices"
      ],
      "metadata": {
        "id": "TnWfBNY11xzb"
      },
      "execution_count": 13,
      "outputs": []
    },
    {
      "cell_type": "markdown",
      "source": [
        "**Generating Random Indices**"
      ],
      "metadata": {
        "id": "vEArJxsg2NUP"
      }
    },
    {
      "cell_type": "code",
      "source": [
        "abandoned_random_indices = generate_random_indices(number_of_rows_abandoned)\n",
        "cultivated_random_indices = generate_random_indices(number_of_rows_cultivated)\n",
        "\n",
        "print('ab -',len(abandoned_random_indices))\n",
        "print('cu -',len(cultivated_random_indices))"
      ],
      "metadata": {
        "colab": {
          "base_uri": "https://localhost:8080/"
        },
        "id": "mF83vhRv2DVP",
        "outputId": "10983bc1-c733-4312-fd7d-a349a8086dfa"
      },
      "execution_count": 14,
      "outputs": [
        {
          "output_type": "stream",
          "name": "stdout",
          "text": [
            "ab - 1000\n",
            "cu - 1000\n"
          ]
        }
      ]
    },
    {
      "cell_type": "markdown",
      "source": [
        "**Create arrays with randomised Datapoints**"
      ],
      "metadata": {
        "id": "8MIO9l1E2TWu"
      }
    },
    {
      "cell_type": "code",
      "source": [
        "X = []\n",
        "Y = []\n",
        "for i in abandoned_random_indices:\n",
        "  X.append(abandoned_ndvi_lswi_all_pixels[i])\n",
        "  Y.append([0])\n",
        "\n",
        "for j in cultivated_random_indices:\n",
        "  X.append(cultivated_ndvi_lswi_all_pixels[j])\n",
        "  Y.append([1])"
      ],
      "metadata": {
        "id": "4gtRbW-o2KgT"
      },
      "execution_count": 15,
      "outputs": []
    },
    {
      "cell_type": "markdown",
      "source": [
        "**Analyse the Processed Data**"
      ],
      "metadata": {
        "id": "UIv00Edm2myP"
      }
    },
    {
      "cell_type": "code",
      "source": [
        "print(np.array(X).shape)"
      ],
      "metadata": {
        "colab": {
          "base_uri": "https://localhost:8080/"
        },
        "id": "t0X6yTO83RaT",
        "outputId": "2229f619-314d-48fe-9182-6ddec56c9db0"
      },
      "execution_count": 16,
      "outputs": [
        {
          "output_type": "stream",
          "name": "stdout",
          "text": [
            "(2000, 20, 2)\n"
          ]
        }
      ]
    },
    {
      "cell_type": "code",
      "source": [
        "print(X[0:1])"
      ],
      "metadata": {
        "colab": {
          "base_uri": "https://localhost:8080/"
        },
        "id": "2PxFaB2T3wbc",
        "outputId": "e8eaecdf-6960-42e8-d6e9-ec808c0bbd3e"
      },
      "execution_count": 22,
      "outputs": [
        {
          "output_type": "stream",
          "name": "stdout",
          "text": [
            "[[[0.58, 0.34], [0.6, 0.36], [0.66, 0.34], [0.64, 0.33], [0.64, 0.32], [0.65, 0.31], [0.65, 0.3], [0.7, 0.29], [0.72, 0.29], [0.61, 0.28], [0.61, 0.27], [0.54, 0.26], [0.62, 0.28], [0.61, 0.29], [0.62, 0.3], [0.6, 0.31], [0.58, 0.29], [0.56, 0.27], [0.54, 0.25], [0.52, 0.04]]]\n"
          ]
        }
      ]
    },
    {
      "cell_type": "code",
      "source": [
        "print(np.array(Y).shape)"
      ],
      "metadata": {
        "colab": {
          "base_uri": "https://localhost:8080/"
        },
        "id": "7fq0rrrF3WsX",
        "outputId": "1f80435a-5df8-4d55-b955-7c72c53b5bf4"
      },
      "execution_count": 17,
      "outputs": [
        {
          "output_type": "stream",
          "name": "stdout",
          "text": [
            "(2000, 1)\n"
          ]
        }
      ]
    },
    {
      "cell_type": "code",
      "source": [
        "print(Y[0:1])"
      ],
      "metadata": {
        "colab": {
          "base_uri": "https://localhost:8080/"
        },
        "id": "eiePsQMV4Bhl",
        "outputId": "23cf9f42-04c9-440e-fe68-8671cdf4eb52"
      },
      "execution_count": 23,
      "outputs": [
        {
          "output_type": "stream",
          "name": "stdout",
          "text": [
            "[[0]]\n"
          ]
        }
      ]
    }
  ]
}