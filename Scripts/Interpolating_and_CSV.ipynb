{
  "nbformat": 4,
  "nbformat_minor": 0,
  "metadata": {
    "colab": {
      "provenance": []
    },
    "kernelspec": {
      "name": "python3",
      "display_name": "Python 3"
    },
    "language_info": {
      "name": "python"
    }
  },
  "cells": [
    {
      "cell_type": "code",
      "source": [
        "from scipy import interpolate\n",
        "import os\n",
        "import numpy as np\n",
        "from datetime import datetime\n",
        "from matplotlib import pyplot as plt, dates as mdates\n",
        "from scipy.interpolate import interp1d\n",
        "import csv"
      ],
      "metadata": {
        "id": "uB6LTFtrxXXA"
      },
      "execution_count": null,
      "outputs": []
    },
    {
      "cell_type": "markdown",
      "source": [
        "# **Select Season/Date Range**"
      ],
      "metadata": {
        "id": "JBuceqb3x5t4"
      }
    },
    {
      "cell_type": "code",
      "source": [
        "#maha 2021\n",
        "#dates = [\"20/11/2021\",\"04/12/2021\",\"24/12/2021\",\"06/01/2022\",\"18/01/2022\",\"20/01/2022\",\"26/01/2022\",\"01/02/2022\",\"02/02/2022\",\"08/02/2022\",\"01/03/2022\",\"11/03/2022\",\"15/03/2022\",\"19/03/2022\",\"04/04/2022\",\"06/04/2022\",\"23/04/2022\",\"24/04/2022\",\"29/04/2022\"]\n",
        "\n",
        "#yala 2022\n",
        "dates = [\"06/04/2022\",\"23/04/2022\",\"24/04/2022\",\"29/04/2022\",\"30/05/2022\",\"13/06/2022\",\"02/07/2022\",\"08/07/2022\",\"19/07/2022\",\"28/07/2022\",\"07/08/2022\",\"15/08/2022\",\"29/08/2022\",\"24/09/2022\"]\n",
        "\n",
        "x_values=[]\n",
        "\n",
        "for d in dates:\n",
        "  \n",
        "    date_format = \"%d/%m/%Y\"\n",
        "    a = datetime.strptime(dates[0], date_format)\n",
        "    b = datetime.strptime(d, date_format)\n",
        "    delta = b - a\n",
        "    x_values.append(delta.days)"
      ],
      "metadata": {
        "id": "GF5x2KbKxlIM"
      },
      "execution_count": null,
      "outputs": []
    },
    {
      "cell_type": "markdown",
      "source": [
        "## **Create interpolating x values for each season based on the date range**"
      ],
      "metadata": {
        "id": "8zdB8GctyQjC"
      }
    },
    {
      "cell_type": "code",
      "source": [
        "#maha\n",
        "x_interpolates_maha =[]\n",
        "for x_i_m in range(0, 161, 10):\n",
        "\n",
        "  x_interpolates_maha.append(x_i_m)\n",
        "\n",
        "\n",
        "#yala\n",
        "x_interpolates_yala =[]\n",
        "for x_i_y in range(0, 172, 9):\n",
        "\n",
        "  x_interpolates_yala.append(x_i_y)"
      ],
      "metadata": {
        "id": "N39QHD0ixupl"
      },
      "execution_count": null,
      "outputs": []
    },
    {
      "cell_type": "markdown",
      "source": [
        "### **Asign Directory**"
      ],
      "metadata": {
        "id": "nqJszk1IypTq"
      }
    },
    {
      "cell_type": "code",
      "source": [
        "#maha 2021\n",
        "#file_directory = '/content/drive/MyDrive/Datasets_XYZ/xyz_maha_selected'\n",
        "\n",
        "#yala 2022\n",
        "file_directory = '/content/drive/MyDrive/Datasets_XYZ/xyz_yala_selected'"
      ],
      "metadata": {
        "id": "gbH7M145y3JX"
      },
      "execution_count": null,
      "outputs": []
    },
    {
      "cell_type": "markdown",
      "source": [
        "1. Sort the files\n",
        "2. Open file\n",
        "3. Read file to array"
      ],
      "metadata": {
        "id": "G3eNUjqFzDDj"
      }
    },
    {
      "cell_type": "code",
      "source": [
        "csv_y_values = []\n",
        "\n",
        "\n",
        "\n",
        "unsorted_file_list = os.listdir(file_directory)\n",
        "sorted_file_list = sorted(unsorted_file_list)\n",
        "\n",
        "\n",
        "#open first file\n",
        "single_xyz_file = open(file_directory+\"/\"+sorted_file_list[0], \"r\")\n",
        "\n",
        "#read all lines and put to a list\n",
        "xyz_lines_list_of_single_file = single_xyz_file.readlines()\n",
        "\n",
        "\n",
        "\n",
        "\n",
        "\n",
        "\n",
        "\n",
        "for i in range(len(xyz_lines_list_of_single_file)):\n",
        "\n",
        "    #array of ndvi values for each day\n",
        "    ndvi_values_for_each_day = []\n",
        "\n",
        "\n",
        "    for j in range(len(sorted_file_list)):\n",
        "        \n",
        "        #open xyz files of ndvi and clouds\n",
        "        ndvi_single_xyz_file = open(file_directory+\"/\"+sorted_file_list[j], \"r\")\n",
        "        \n",
        "        #add all xyz lines as list\n",
        "        ndvi_line_list_of_single_file = ndvi_single_xyz_file.readlines()\n",
        "\n",
        "        ndvi_line = ndvi_line_list_of_single_file[i].split(\" \")\n",
        "\n",
        "        floatnum = float(ndvi_line[2])\n",
        "\n",
        "        roundnum = round(floatnum,2)\n",
        "\n",
        "        ndvi_values_for_each_day.append(roundnum)\n",
        "\n",
        "\n",
        "    y_values = ndvi_values_for_each_day\n",
        "\n",
        "    #Interpolate x and y values\n",
        "\n",
        "    y_interp = interp1d(x_values, y_values)\n",
        "\n",
        "\n",
        "    interpolate_y_values = []\n",
        "\n",
        "    # change array between x_interpolates_yala  and x_interpolates_maha\n",
        "\n",
        "    for k in range(len(x_interpolates_maha)):\n",
        "\n",
        "        floatnum = float(y_interp(x_interpolates_maha[k]))\n",
        "\n",
        "        roundnum = round(floatnum,2)\n",
        "\n",
        "        interpolate_y_values.append(roundnum)\n",
        "\n",
        "\n",
        "\n",
        "    # labelling data => 2 = chemical fertilizer\n",
        "    #interpolate_y_values.append(2)\n",
        "\n",
        "    # labelling data => 1 = organic fertilizer\n",
        "    interpolate_y_values.append(1)\n",
        "\n",
        "    # labelling data => 0 = abandoned crops\n",
        "    #interpolate_y_values.append(0)\n",
        "\n",
        "\n",
        "    csv_y_values.append(interpolate_y_values)\n",
        "\n",
        "\n"
      ],
      "metadata": {
        "id": "yWI1iMMsGGVg"
      },
      "execution_count": 14,
      "outputs": []
    },
    {
      "cell_type": "markdown",
      "source": [
        "# **Generating labels for Maha csv**"
      ],
      "metadata": {
        "id": "1iZWACYBW65J"
      }
    },
    {
      "cell_type": "code",
      "source": [
        "filename = \"maha_2021_dataset.csv\"\n",
        "\n",
        "\n",
        "#fields for maha 2021\n",
        "fields = []\n",
        "for x in range(0, 161, 10):\n",
        "\n",
        "  field = 'day'+ str(x)\n",
        "  fields.append(field)\n",
        "\n",
        "fields.append('label')\n",
        "\n",
        "#expected => fields = ['day0','day10',...,'day150','day160','label']"
      ],
      "metadata": {
        "id": "LZZqytYAWL2Y"
      },
      "execution_count": null,
      "outputs": []
    },
    {
      "cell_type": "markdown",
      "source": [
        "# **Generating labels for Yala csv**"
      ],
      "metadata": {
        "id": "u1k6ePloa_S2"
      }
    },
    {
      "cell_type": "code",
      "source": [
        "filename = \"yala_2022_dataset.csv\"\n",
        "\n",
        "#fields for yala 2022\n",
        "fields = []\n",
        "for x in range(0, 172, 9):\n",
        "\n",
        "  field = 'day'+ str(x)\n",
        "  fields.append(field)\n",
        "\n",
        "fields.append('label')\n",
        "\n",
        "#expected => fields = ['day0','day9',...,'day162','day171','label']"
      ],
      "metadata": {
        "id": "6JccqmqfbA0l"
      },
      "execution_count": 20,
      "outputs": []
    },
    {
      "cell_type": "markdown",
      "source": [
        "# **Writing to CSV file**"
      ],
      "metadata": {
        "id": "lyGi8hOcaglh"
      }
    },
    {
      "cell_type": "code",
      "source": [
        "# writing to csv file \n",
        "with open(filename, 'w') as csvfile:\n",
        "\n",
        "    # creating a csv writer object \n",
        "    csvwriter = csv.writer(csvfile) \n",
        "        \n",
        "    # writing the fields \n",
        "    csvwriter.writerow(fields) \n",
        "        \n",
        "    # writing the data rows \n",
        "    csvwriter.writerows(csv_y_values)"
      ],
      "metadata": {
        "id": "yocazPgXajbd"
      },
      "execution_count": 21,
      "outputs": []
    },
    {
      "cell_type": "markdown",
      "source": [
        "# **Plotting Graphs**"
      ],
      "metadata": {
        "id": "by596Iz0VsWf"
      }
    },
    {
      "cell_type": "code",
      "source": [
        " # giving a title to my graph\n",
        "    #plt.title('Pixel no. '+ str(i))\n",
        "  \n",
        "    # naming the x axis\n",
        "    #plt.xlabel('date')\n",
        "\n",
        "    # naming the y axis\n",
        "    #plt.ylabel('ndvi')\n",
        "    \n",
        "    # plotting the graph\n",
        "    #plt.plot(x_values, y_values) \n",
        "   \n",
        "    # show the graph\n",
        "    #plt.show()"
      ],
      "metadata": {
        "id": "if6csry3Vq9p"
      },
      "execution_count": null,
      "outputs": []
    }
  ]
}