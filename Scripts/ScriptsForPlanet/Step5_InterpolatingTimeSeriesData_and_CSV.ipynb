{
  "nbformat": 4,
  "nbformat_minor": 0,
  "metadata": {
    "colab": {
      "provenance": []
    },
    "kernelspec": {
      "name": "python3",
      "display_name": "Python 3"
    },
    "language_info": {
      "name": "python"
    },
    "gpuClass": "standard"
  },
  "cells": [
    {
      "cell_type": "code",
      "source": [
        "from google.colab import drive\n",
        "drive.mount('/content/drive')"
      ],
      "metadata": {
        "colab": {
          "base_uri": "https://localhost:8080/"
        },
        "id": "HYyQSFZx_qpP",
        "outputId": "7777f922-fec6-4413-d9d0-daf4b5d9cabe"
      },
      "execution_count": null,
      "outputs": [
        {
          "output_type": "stream",
          "name": "stdout",
          "text": [
            "Drive already mounted at /content/drive; to attempt to forcibly remount, call drive.mount(\"/content/drive\", force_remount=True).\n"
          ]
        }
      ]
    },
    {
      "cell_type": "code",
      "source": [
        "from scipy import interpolate\n",
        "import os\n",
        "import numpy as np\n",
        "from datetime import datetime\n",
        "from matplotlib import pyplot as plt, dates as mdates\n",
        "from scipy.interpolate import interp1d\n",
        "import csv"
      ],
      "metadata": {
        "id": "uB6LTFtrxXXA"
      },
      "execution_count": null,
      "outputs": []
    },
    {
      "cell_type": "markdown",
      "source": [
        "# **Select Season/Date Range**"
      ],
      "metadata": {
        "id": "JBuceqb3x5t4"
      }
    },
    {
      "cell_type": "code",
      "source": [
        "# maha 2021\n",
        "#dates = [\"20/11/2021\",\"04/12/2021\",\"24/12/2021\",\"06/01/2022\",\"18/01/2022\",\"20/01/2022\",\"26/01/2022\",\"01/02/2022\",\"02/02/2022\",\"08/02/2022\",\"01/03/2022\",\"11/03/2022\",\"15/03/2022\",\"19/03/2022\",\"04/04/2022\",\"06/04/2022\",\"23/04/2022\",\"24/04/2022\",\"29/04/2022\"]\n",
        "\n",
        "# yala 2022\n",
        "#dates = [\"06/04/2022\",\"23/04/2022\",\"24/04/2022\",\"29/04/2022\",\"30/05/2022\",\"13/06/2022\",\"02/07/2022\",\"08/07/2022\",\"19/07/2022\",\"28/07/2022\",\"07/08/2022\",\"15/08/2022\",\"29/08/2022\",\"24/09/2022\"]\n",
        "\n",
        "# ndvi yala abandoned 2022 \n",
        "#dates = [\"04/04/2022\",\"06/04/2022\",\"23/04/2022\",\"24/04/2022\",\"29/04/2022\",\"30/05/2022\",\"13/06/2022\",\"27/06/2022\",\"02/07/2022\",\"08/07/2022\",\"19/07/2022\",\"21/07/2022\",\"28/07/2022\",\"07/08/2022\",\"15/08/2022\",\"29/08/2022\",\"24/09/2022\"]\n",
        "\n",
        "# lswi yala abandoned 2022 \n",
        "dates = [\"15/04/2022\",\"25/04/2022\",\"05/05/2022\",\"20/05/2022\",\"29/06/2022\",\"19/07/2022\",\"18/08/2022\",\"23/08/2022\",\"22/09/2022\",\"27/09/2022\"]\n",
        "\n",
        "x_values=[]\n",
        "\n",
        "for d in dates:\n",
        "  \n",
        "    date_format = \"%d/%m/%Y\"\n",
        "    a = datetime.strptime(dates[0], date_format)\n",
        "    b = datetime.strptime(d, date_format)\n",
        "    delta = b - a\n",
        "    x_values.append(delta.days)\n",
        "\n",
        "print('x coordinates for dates :',x_values)"
      ],
      "metadata": {
        "id": "GF5x2KbKxlIM",
        "colab": {
          "base_uri": "https://localhost:8080/"
        },
        "outputId": "bc0bfe8d-5f55-4107-e652-e130bd5a1e61"
      },
      "execution_count": null,
      "outputs": [
        {
          "output_type": "stream",
          "name": "stdout",
          "text": [
            "x coordinates for dates : [0, 10, 20, 35, 75, 95, 125, 130, 160, 165]\n"
          ]
        }
      ]
    },
    {
      "cell_type": "markdown",
      "source": [
        "## **Create interpolating x values based on the date range**"
      ],
      "metadata": {
        "id": "8zdB8GctyQjC"
      }
    },
    {
      "cell_type": "code",
      "source": [
        "x_interpolates_yala = []\n",
        "\n",
        "#ndvi days=173\n",
        "#lswi days=165\n",
        "\n",
        "days=165\n",
        "columns=20\n",
        "required_columns=columns-1\n",
        "\n",
        "gap = days/required_columns\n",
        "\n",
        "i = 0\n",
        "while(int(i) <= days):\n",
        "    x_interpolates_yala.append(int(i))\n",
        "    i += gap\n",
        "\n",
        "print('x values to interpolate :',x_interpolates_yala)"
      ],
      "metadata": {
        "id": "N39QHD0ixupl",
        "colab": {
          "base_uri": "https://localhost:8080/"
        },
        "outputId": "5c8ffc98-cabb-4522-e01f-585343ec7253"
      },
      "execution_count": null,
      "outputs": [
        {
          "output_type": "stream",
          "name": "stdout",
          "text": [
            "x values to interpolate : [0, 8, 17, 26, 34, 43, 52, 60, 69, 78, 86, 95, 104, 112, 121, 130, 138, 147, 156, 165]\n"
          ]
        }
      ]
    },
    {
      "cell_type": "code",
      "source": [
        "#ensure number of columns is 20\n",
        "print('number of columns for output csv:',len(x_interpolates_yala))"
      ],
      "metadata": {
        "colab": {
          "base_uri": "https://localhost:8080/"
        },
        "id": "0O81Ni693YKP",
        "outputId": "a27da200-0060-4bbb-bc76-ad15ce8af01b"
      },
      "execution_count": null,
      "outputs": [
        {
          "output_type": "stream",
          "name": "stdout",
          "text": [
            "number of columns for output csv: 20\n"
          ]
        }
      ]
    },
    {
      "cell_type": "markdown",
      "source": [
        "### **Assign Directory**"
      ],
      "metadata": {
        "id": "nqJszk1IypTq"
      }
    },
    {
      "cell_type": "code",
      "source": [
        "file_directory = '/content/drive/MyDrive/Datasets_XYZ/lswi_xyz_yala/cultivated/plot2_middle'"
      ],
      "metadata": {
        "id": "gbH7M145y3JX"
      },
      "execution_count": null,
      "outputs": []
    },
    {
      "cell_type": "markdown",
      "source": [
        "1. Sort the files\n",
        "2. Open file\n",
        "3. Read file to array"
      ],
      "metadata": {
        "id": "G3eNUjqFzDDj"
      }
    },
    {
      "cell_type": "code",
      "source": [
        "csv_y_values = []\n",
        "\n",
        "\n",
        "unsorted_file_list = os.listdir(file_directory)\n",
        "sorted_file_list = sorted(unsorted_file_list)\n",
        "\n",
        "\n",
        "#open first file\n",
        "single_xyz_file = open(file_directory+\"/\"+sorted_file_list[0], \"r\")\n",
        "\n",
        "#read all lines and put to a list\n",
        "xyz_lines_list_of_single_file = single_xyz_file.readlines()\n",
        "\n",
        "\n",
        "\n",
        "for i in range(len(xyz_lines_list_of_single_file)):\n",
        "\n",
        "    #array of ndvi values for each day\n",
        "    ndvi_values_for_each_day = []\n",
        "\n",
        "\n",
        "    for j in range(len(sorted_file_list)):\n",
        "        \n",
        "        #open xyz files of ndvi and clouds\n",
        "        ndvi_single_xyz_file = open(file_directory+\"/\"+sorted_file_list[j], \"r\")\n",
        "        \n",
        "        #add all xyz lines as list\n",
        "        ndvi_line_list_of_single_file = ndvi_single_xyz_file.readlines()\n",
        "\n",
        "        ndvi_line = ndvi_line_list_of_single_file[i].split(\" \")\n",
        "\n",
        "        floatnum = float(ndvi_line[2])\n",
        "\n",
        "        roundnum = round(floatnum,2)\n",
        "\n",
        "        ndvi_values_for_each_day.append(roundnum)\n",
        "\n",
        "\n",
        "    y_values = ndvi_values_for_each_day\n",
        "\n",
        "    #Interpolate x and y values\n",
        "\n",
        "    y_interp = interp1d(x_values, y_values)\n",
        "\n",
        "\n",
        "    interpolate_y_values = []\n",
        "\n",
        "    # change array between x_interpolates_yala  and x_interpolates_maha\n",
        "\n",
        "    for k in range(len(x_interpolates_yala)):\n",
        "\n",
        "        floatnum = float(y_interp(x_interpolates_yala[k]))\n",
        "\n",
        "        roundnum = round(floatnum,2)\n",
        "\n",
        "        interpolate_y_values.append(roundnum)\n",
        "\n",
        "\n",
        "  \n",
        "    #append 0 if abandoned\n",
        "    #append 1 if cultivated\n",
        "    \n",
        "    interpolate_y_values.append(1)\n",
        "\n",
        "\n",
        "    csv_y_values.append(interpolate_y_values)\n",
        "\n",
        "\n"
      ],
      "metadata": {
        "id": "yWI1iMMsGGVg"
      },
      "execution_count": null,
      "outputs": []
    },
    {
      "cell_type": "markdown",
      "source": [
        "## **Generating Labels for csv.**"
      ],
      "metadata": {
        "id": "UpJQjoiSfM81"
      }
    },
    {
      "cell_type": "code",
      "source": [
        "filename = \"lswi_yala_cultivated_2022_dataset.csv\"\n",
        "\n",
        "#fields for yala 2022\n",
        "fields = []\n",
        "for i in x_interpolates_yala:\n",
        "\n",
        "  field = 'day'+ str(int(i))\n",
        "  fields.append(field)\n",
        "\n",
        "fields.append('label')\n",
        "\n",
        "#expected => fields = ['day0','day9',...,'day162','day171','label']"
      ],
      "metadata": {
        "id": "EAhF0LC5fHg_"
      },
      "execution_count": null,
      "outputs": []
    },
    {
      "cell_type": "markdown",
      "source": [
        "# **Writing to CSV file**"
      ],
      "metadata": {
        "id": "lyGi8hOcaglh"
      }
    },
    {
      "cell_type": "code",
      "source": [
        "# writing to csv file \n",
        "with open(filename, 'w') as csvfile:\n",
        "\n",
        "    # creating a csv writer object \n",
        "    csvwriter = csv.writer(csvfile) \n",
        "        \n",
        "    # writing the fields \n",
        "    csvwriter.writerow(fields) \n",
        "        \n",
        "    # writing the data rows \n",
        "    csvwriter.writerows(csv_y_values)"
      ],
      "metadata": {
        "id": "yocazPgXajbd"
      },
      "execution_count": null,
      "outputs": []
    },
    {
      "cell_type": "markdown",
      "source": [
        "# **Plotting Graphs**"
      ],
      "metadata": {
        "id": "by596Iz0VsWf"
      }
    },
    {
      "cell_type": "code",
      "source": [
        " # giving a title to my graph\n",
        "    #plt.title('Pixel no. '+ str(i))\n",
        "  \n",
        "    # naming the x axis\n",
        "    #plt.xlabel('date')\n",
        "\n",
        "    # naming the y axis\n",
        "    #plt.ylabel('ndvi')\n",
        "    \n",
        "    # plotting the graph\n",
        "    #plt.plot(x_values, y_values) \n",
        "   \n",
        "    # show the graph\n",
        "    #plt.show()"
      ],
      "metadata": {
        "id": "if6csry3Vq9p"
      },
      "execution_count": null,
      "outputs": []
    }
  ]
}